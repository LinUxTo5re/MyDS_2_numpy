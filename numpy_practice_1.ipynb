{
 "cells": [
  {
   "cell_type": "code",
   "execution_count": 1,
   "id": "83ecded2",
   "metadata": {},
   "outputs": [],
   "source": [
    "import numpy as np"
   ]
  },
  {
   "cell_type": "code",
   "execution_count": 2,
   "id": "5c727152",
   "metadata": {},
   "outputs": [
    {
     "data": {
      "text/plain": [
       "array([0, 0, 0, 0, 0])"
      ]
     },
     "execution_count": 2,
     "metadata": {},
     "output_type": "execute_result"
    }
   ],
   "source": [
    "np.zeros(5,dtype=int)"
   ]
  },
  {
   "cell_type": "code",
   "execution_count": 3,
   "id": "b61a7ec4",
   "metadata": {},
   "outputs": [
    {
     "data": {
      "text/plain": [
       "array([[0.+0.j, 0.+0.j],\n",
       "       [0.+0.j, 0.+0.j],\n",
       "       [0.+0.j, 0.+0.j],\n",
       "       [0.+0.j, 0.+0.j],\n",
       "       [0.+0.j, 0.+0.j]])"
      ]
     },
     "execution_count": 3,
     "metadata": {},
     "output_type": "execute_result"
    }
   ],
   "source": [
    "np.zeros((5,2),dtype=complex)"
   ]
  },
  {
   "cell_type": "code",
   "execution_count": 4,
   "id": "9a6aac64",
   "metadata": {},
   "outputs": [],
   "source": [
    "np.zeros_like?"
   ]
  },
  {
   "cell_type": "code",
   "execution_count": 5,
   "id": "1912c442",
   "metadata": {},
   "outputs": [],
   "source": [
    "x=np.arange(6).reshape((2,3))"
   ]
  },
  {
   "cell_type": "code",
   "execution_count": 7,
   "id": "d2c8a250",
   "metadata": {},
   "outputs": [
    {
     "data": {
      "text/plain": [
       "array([[0, 0, 0],\n",
       "       [0, 0, 0]])"
      ]
     },
     "execution_count": 7,
     "metadata": {},
     "output_type": "execute_result"
    }
   ],
   "source": [
    "np.zeros_like(x,dtype=int)"
   ]
  },
  {
   "cell_type": "code",
   "execution_count": 8,
   "id": "a8a64cb1",
   "metadata": {},
   "outputs": [
    {
     "data": {
      "text/plain": [
       "numpy.ndarray"
      ]
     },
     "execution_count": 8,
     "metadata": {},
     "output_type": "execute_result"
    }
   ],
   "source": [
    "type(x)"
   ]
  },
  {
   "cell_type": "code",
   "execution_count": 11,
   "id": "2bfeb031",
   "metadata": {},
   "outputs": [
    {
     "data": {
      "text/plain": [
       "2"
      ]
     },
     "execution_count": 11,
     "metadata": {},
     "output_type": "execute_result"
    }
   ],
   "source": [
    "x.ndim"
   ]
  },
  {
   "cell_type": "code",
   "execution_count": 12,
   "id": "6e51bbb8",
   "metadata": {},
   "outputs": [
    {
     "data": {
      "text/plain": [
       "(2, 3)"
      ]
     },
     "execution_count": 12,
     "metadata": {},
     "output_type": "execute_result"
    }
   ],
   "source": [
    "x.shape"
   ]
  },
  {
   "cell_type": "code",
   "execution_count": 13,
   "id": "93e13f08",
   "metadata": {},
   "outputs": [
    {
     "data": {
      "text/plain": [
       "6"
      ]
     },
     "execution_count": 13,
     "metadata": {},
     "output_type": "execute_result"
    }
   ],
   "source": [
    "x.size"
   ]
  },
  {
   "cell_type": "code",
   "execution_count": 14,
   "id": "855dffd3",
   "metadata": {},
   "outputs": [
    {
     "data": {
      "text/plain": [
       "8"
      ]
     },
     "execution_count": 14,
     "metadata": {},
     "output_type": "execute_result"
    }
   ],
   "source": [
    "x.itemsize"
   ]
  },
  {
   "cell_type": "code",
   "execution_count": 27,
   "id": "ae5a8840",
   "metadata": {},
   "outputs": [],
   "source": [
    "mylist=[[4,5,3,5],[6,4,7,2]]\n",
    "list_arr=np.array(mylist,dtype=int)"
   ]
  },
  {
   "cell_type": "code",
   "execution_count": 16,
   "id": "3fd3b954",
   "metadata": {},
   "outputs": [
    {
     "data": {
      "text/plain": [
       "array([[4, 5, 3, 5],\n",
       "       [6, 4, 7, 2]])"
      ]
     },
     "execution_count": 16,
     "metadata": {},
     "output_type": "execute_result"
    }
   ],
   "source": [
    "list_arr"
   ]
  },
  {
   "cell_type": "code",
   "execution_count": 18,
   "id": "6b8c28f1",
   "metadata": {},
   "outputs": [
    {
     "data": {
      "text/plain": [
       "dtype('int64')"
      ]
     },
     "execution_count": 18,
     "metadata": {},
     "output_type": "execute_result"
    }
   ],
   "source": [
    "list_arr.dtype"
   ]
  },
  {
   "cell_type": "code",
   "execution_count": 19,
   "id": "866eaf3e",
   "metadata": {},
   "outputs": [
    {
     "data": {
      "text/plain": [
       "'int64'"
      ]
     },
     "execution_count": 19,
     "metadata": {},
     "output_type": "execute_result"
    }
   ],
   "source": [
    "list_arr.dtype.name"
   ]
  },
  {
   "cell_type": "code",
   "execution_count": 20,
   "id": "8f8e48ba",
   "metadata": {},
   "outputs": [],
   "source": [
    "list_arr=np.dtype(float)"
   ]
  },
  {
   "cell_type": "code",
   "execution_count": 28,
   "id": "77d91519",
   "metadata": {},
   "outputs": [
    {
     "data": {
      "text/plain": [
       "array([[4, 5, 3, 5],\n",
       "       [6, 4, 7, 2]])"
      ]
     },
     "execution_count": 28,
     "metadata": {},
     "output_type": "execute_result"
    }
   ],
   "source": [
    "list_arr"
   ]
  },
  {
   "cell_type": "code",
   "execution_count": 29,
   "id": "c1cb1555",
   "metadata": {},
   "outputs": [],
   "source": [
    "list_arr=list_arr.astype(np.float32)"
   ]
  },
  {
   "cell_type": "code",
   "execution_count": 30,
   "id": "122be291",
   "metadata": {},
   "outputs": [
    {
     "data": {
      "text/plain": [
       "array([[4., 5., 3., 5.],\n",
       "       [6., 4., 7., 2.]], dtype=float32)"
      ]
     },
     "execution_count": 30,
     "metadata": {},
     "output_type": "execute_result"
    }
   ],
   "source": [
    "list_arr"
   ]
  },
  {
   "cell_type": "code",
   "execution_count": 31,
   "id": "6a81fff1",
   "metadata": {},
   "outputs": [
    {
     "data": {
      "text/plain": [
       "array([[False, False, False],\n",
       "       [False, False, False],\n",
       "       [False, False, False]])"
      ]
     },
     "execution_count": 31,
     "metadata": {},
     "output_type": "execute_result"
    }
   ],
   "source": [
    "np.zeros((3,3),dtype=bool)"
   ]
  },
  {
   "cell_type": "code",
   "execution_count": 33,
   "id": "61f5c157",
   "metadata": {},
   "outputs": [
    {
     "data": {
      "text/plain": [
       "array([[ True,  True,  True,  True],\n",
       "       [ True,  True,  True,  True],\n",
       "       [ True,  True,  True,  True]])"
      ]
     },
     "execution_count": 33,
     "metadata": {},
     "output_type": "execute_result"
    }
   ],
   "source": [
    "np.ones((3,4),dtype=bool)"
   ]
  },
  {
   "cell_type": "code",
   "execution_count": 34,
   "id": "02f05e33",
   "metadata": {},
   "outputs": [
    {
     "data": {
      "text/plain": [
       "array([[1., 1., 1., 1.],\n",
       "       [1., 1., 1., 1.]], dtype=float32)"
      ]
     },
     "execution_count": 34,
     "metadata": {},
     "output_type": "execute_result"
    }
   ],
   "source": [
    "np.ones_like(list_arr)"
   ]
  },
  {
   "cell_type": "code",
   "execution_count": 35,
   "id": "951cd6e8",
   "metadata": {},
   "outputs": [
    {
     "data": {
      "text/plain": [
       "array([[1, 1, 1, 1],\n",
       "       [1, 1, 1, 1]], dtype=int32)"
      ]
     },
     "execution_count": 35,
     "metadata": {},
     "output_type": "execute_result"
    }
   ],
   "source": [
    "np.ones_like(list_arr).astype(np.int32)"
   ]
  },
  {
   "cell_type": "code",
   "execution_count": 36,
   "id": "077bd142",
   "metadata": {},
   "outputs": [
    {
     "data": {
      "text/plain": [
       "array([10, 12, 14, 16, 18, 20, 22])"
      ]
     },
     "execution_count": 36,
     "metadata": {},
     "output_type": "execute_result"
    }
   ],
   "source": [
    "np.arange(10,24,2,dtype=int,like=list_arr)"
   ]
  },
  {
   "cell_type": "code",
   "execution_count": 37,
   "id": "f1e4f8da",
   "metadata": {},
   "outputs": [
    {
     "data": {
      "text/plain": [
       "array([[10., 11., 12., 13., 14.],\n",
       "       [15., 16., 17., 18., 19.]], dtype=float32)"
      ]
     },
     "execution_count": 37,
     "metadata": {},
     "output_type": "execute_result"
    }
   ],
   "source": [
    "np.arange(10,20,dtype=np.float32).reshape(2,5)"
   ]
  },
  {
   "cell_type": "code",
   "execution_count": 39,
   "id": "16788c43",
   "metadata": {},
   "outputs": [
    {
     "data": {
      "text/plain": [
       "array([[10, 11],\n",
       "       [12, 13],\n",
       "       [14, 15],\n",
       "       [16, 17],\n",
       "       [18, 19]], dtype=int32)"
      ]
     },
     "execution_count": 39,
     "metadata": {},
     "output_type": "execute_result"
    }
   ],
   "source": [
    "arange=np.arange(10,20,dtype=np.float32).reshape(2,5)\n",
    "arange=arange.astype(np.int32)\n",
    "arange.reshape(5,2)"
   ]
  },
  {
   "cell_type": "code",
   "execution_count": 40,
   "id": "cbf80301",
   "metadata": {},
   "outputs": [],
   "source": [
    "np.linspace?"
   ]
  },
  {
   "cell_type": "code",
   "execution_count": 41,
   "id": "2cdec912",
   "metadata": {},
   "outputs": [
    {
     "data": {
      "text/plain": [
       "array([2.        , 2.33333333, 2.66666667, 3.        , 3.33333333,\n",
       "       3.66666667, 4.        , 4.33333333, 4.66666667, 5.        ])"
      ]
     },
     "execution_count": 41,
     "metadata": {},
     "output_type": "execute_result"
    }
   ],
   "source": [
    "np.linspace(2,5,10)"
   ]
  },
  {
   "cell_type": "code",
   "execution_count": 42,
   "id": "471f8d6d",
   "metadata": {},
   "outputs": [
    {
     "data": {
      "text/plain": [
       "array([2. , 2.3, 2.6, 2.9, 3.2, 3.5, 3.8, 4.1, 4.4, 4.7])"
      ]
     },
     "execution_count": 42,
     "metadata": {},
     "output_type": "execute_result"
    }
   ],
   "source": [
    "np.linspace(2,5,10,endpoint=False)"
   ]
  },
  {
   "cell_type": "code",
   "execution_count": 43,
   "id": "65150c72",
   "metadata": {},
   "outputs": [
    {
     "data": {
      "text/plain": [
       "(array([2. , 2.3, 2.6, 2.9, 3.2, 3.5, 3.8, 4.1, 4.4, 4.7]), 0.3)"
      ]
     },
     "execution_count": 43,
     "metadata": {},
     "output_type": "execute_result"
    }
   ],
   "source": [
    "np.linspace(2,5,10,endpoint=False,retstep=True)"
   ]
  },
  {
   "cell_type": "code",
   "execution_count": 44,
   "id": "ffb49d48",
   "metadata": {},
   "outputs": [
    {
     "data": {
      "text/plain": [
       "(array([2.        , 2.33333333, 2.66666667, 3.        , 3.33333333,\n",
       "        3.66666667, 4.        , 4.33333333, 4.66666667, 5.        ]),\n",
       " 0.3333333333333333)"
      ]
     },
     "execution_count": 44,
     "metadata": {},
     "output_type": "execute_result"
    }
   ],
   "source": [
    "np.linspace(2,5,10,retstep=True)"
   ]
  },
  {
   "cell_type": "code",
   "execution_count": 45,
   "id": "ef73907b",
   "metadata": {},
   "outputs": [],
   "source": [
    "np.random?"
   ]
  },
  {
   "cell_type": "code",
   "execution_count": 46,
   "id": "9fe8917b",
   "metadata": {},
   "outputs": [
    {
     "data": {
      "text/plain": [
       "array([[0.75943167, 0.10679049],\n",
       "       [0.78361489, 0.0843463 ],\n",
       "       [0.05981887, 0.04288097]])"
      ]
     },
     "execution_count": 46,
     "metadata": {},
     "output_type": "execute_result"
    }
   ],
   "source": [
    "np.random.rand(3,2)"
   ]
  },
  {
   "cell_type": "code",
   "execution_count": 47,
   "id": "bf4c3472",
   "metadata": {},
   "outputs": [
    {
     "ename": "TypeError",
     "evalue": "rand() got an unexpected keyword argument 'dtype'",
     "output_type": "error",
     "traceback": [
      "\u001b[0;31m---------------------------------------------------------------------------\u001b[0m",
      "\u001b[0;31mTypeError\u001b[0m                                 Traceback (most recent call last)",
      "\u001b[0;32m/tmp/ipykernel_3515/4139189054.py\u001b[0m in \u001b[0;36m<module>\u001b[0;34m\u001b[0m\n\u001b[0;32m----> 1\u001b[0;31m \u001b[0mnp\u001b[0m\u001b[0;34m.\u001b[0m\u001b[0mrandom\u001b[0m\u001b[0;34m.\u001b[0m\u001b[0mrand\u001b[0m\u001b[0;34m(\u001b[0m\u001b[0;36m2\u001b[0m\u001b[0;34m,\u001b[0m\u001b[0;36m3\u001b[0m\u001b[0;34m,\u001b[0m\u001b[0mdtype\u001b[0m\u001b[0;34m=\u001b[0m\u001b[0mint\u001b[0m\u001b[0;34m)\u001b[0m\u001b[0;34m\u001b[0m\u001b[0;34m\u001b[0m\u001b[0m\n\u001b[0m",
      "\u001b[0;31mTypeError\u001b[0m: rand() got an unexpected keyword argument 'dtype'"
     ]
    }
   ],
   "source": [
    "np.random.rand(2,3,dtype=int)"
   ]
  },
  {
   "cell_type": "code",
   "execution_count": 49,
   "id": "67959d2a",
   "metadata": {},
   "outputs": [
    {
     "data": {
      "text/plain": [
       "array([[0.38160053, 0.3802649 , 0.07436303],\n",
       "       [0.1928347 , 0.97612444, 0.77479022]])"
      ]
     },
     "execution_count": 49,
     "metadata": {},
     "output_type": "execute_result"
    }
   ],
   "source": [
    "ab=np.random.rand(2,3)\n",
    "ab"
   ]
  },
  {
   "cell_type": "code",
   "execution_count": 50,
   "id": "89db7315",
   "metadata": {},
   "outputs": [
    {
     "name": "stderr",
     "output_type": "stream",
     "text": [
      "/tmp/ipykernel_3515/4118181218.py:1: DeprecationWarning: `np.int` is a deprecated alias for the builtin `int`. To silence this warning, use `int` by itself. Doing this will not modify any behavior and is safe. When replacing `np.int`, you may wish to use e.g. `np.int64` or `np.int32` to specify the precision. If you wish to review your current use, check the release note link for additional information.\n",
      "Deprecated in NumPy 1.20; for more details and guidance: https://numpy.org/devdocs/release/1.20.0-notes.html#deprecations\n",
      "  ab=ab.astype(np.int)\n"
     ]
    }
   ],
   "source": [
    "ab=ab.astype(np.int)"
   ]
  },
  {
   "cell_type": "code",
   "execution_count": 51,
   "id": "f30a3634",
   "metadata": {},
   "outputs": [
    {
     "data": {
      "text/plain": [
       "array([[0, 0, 0],\n",
       "       [0, 0, 0]])"
      ]
     },
     "execution_count": 51,
     "metadata": {},
     "output_type": "execute_result"
    }
   ],
   "source": [
    "ab\n",
    "# similar to np.zeros or np.zeros_like"
   ]
  },
  {
   "cell_type": "code",
   "execution_count": 53,
   "id": "e52d4598",
   "metadata": {},
   "outputs": [
    {
     "data": {
      "text/plain": [
       "array([0.58754071, 0.792106  , 0.15378363])"
      ]
     },
     "execution_count": 53,
     "metadata": {},
     "output_type": "execute_result"
    }
   ],
   "source": [
    "np.random.random(3)\n",
    "# 1-D random arr"
   ]
  },
  {
   "cell_type": "code",
   "execution_count": 54,
   "id": "b53cc1c9",
   "metadata": {},
   "outputs": [
    {
     "data": {
      "text/plain": [
       "array([[-1.4569324 ,  2.59299867,  0.45351307,  0.95610785,  1.22883431],\n",
       "       [-0.65388543, -0.04905635,  0.71948506, -1.44734393, -1.77401466]])"
      ]
     },
     "execution_count": 54,
     "metadata": {},
     "output_type": "execute_result"
    }
   ],
   "source": [
    "np.random.randn(2,5)"
   ]
  },
  {
   "cell_type": "code",
   "execution_count": 56,
   "id": "ebad2d22",
   "metadata": {},
   "outputs": [
    {
     "data": {
      "text/plain": [
       "array([[ 4,  5,  6,  7],\n",
       "       [ 8,  9, 10, 11],\n",
       "       [12, 13, 14, 15],\n",
       "       [16, 17, 18, 20]])"
      ]
     },
     "execution_count": 56,
     "metadata": {},
     "output_type": "execute_result"
    }
   ],
   "source": [
    "a=np.linspace(4,20,16,dtype=int).reshape(4,4)\n",
    "a"
   ]
  },
  {
   "cell_type": "code",
   "execution_count": 57,
   "id": "b057e719",
   "metadata": {},
   "outputs": [
    {
     "data": {
      "text/plain": [
       "array([[ 6,  7,  8,  9],\n",
       "       [10, 11, 12, 13],\n",
       "       [14, 15, 16, 17],\n",
       "       [18, 19, 20, 22]])"
      ]
     },
     "execution_count": 57,
     "metadata": {},
     "output_type": "execute_result"
    }
   ],
   "source": [
    "a+2"
   ]
  },
  {
   "cell_type": "code",
   "execution_count": 58,
   "id": "bd246959",
   "metadata": {},
   "outputs": [
    {
     "data": {
      "text/plain": [
       "array([[ 36,  45,  54,  63],\n",
       "       [ 72,  81,  90,  99],\n",
       "       [108, 117, 126, 135],\n",
       "       [144, 153, 162, 180]])"
      ]
     },
     "execution_count": 58,
     "metadata": {},
     "output_type": "execute_result"
    }
   ],
   "source": [
    "a*9"
   ]
  },
  {
   "cell_type": "code",
   "execution_count": 59,
   "id": "177aa732",
   "metadata": {},
   "outputs": [
    {
     "data": {
      "text/plain": [
       "array([[ 8., 10., 12., 14.],\n",
       "       [16., 18., 20., 22.],\n",
       "       [24., 26., 28., 30.],\n",
       "       [32., 34., 36., 40.]])"
      ]
     },
     "execution_count": 59,
     "metadata": {},
     "output_type": "execute_result"
    }
   ],
   "source": [
    "a/.5"
   ]
  },
  {
   "cell_type": "code",
   "execution_count": 60,
   "id": "3a2ee8b4",
   "metadata": {},
   "outputs": [
    {
     "data": {
      "text/plain": [
       "array([[ 8., 10., 12., 14.],\n",
       "       [16., 18., 20., 22.],\n",
       "       [24., 26., 28., 30.],\n",
       "       [32., 34., 36., 40.]])"
      ]
     },
     "execution_count": 60,
     "metadata": {},
     "output_type": "execute_result"
    }
   ],
   "source": [
    "a//.5"
   ]
  },
  {
   "cell_type": "code",
   "execution_count": 61,
   "id": "3733966f",
   "metadata": {},
   "outputs": [
    {
     "data": {
      "text/plain": [
       "array([[0, 1, 0, 1],\n",
       "       [0, 1, 0, 1],\n",
       "       [0, 1, 0, 1],\n",
       "       [0, 1, 0, 0]])"
      ]
     },
     "execution_count": 61,
     "metadata": {},
     "output_type": "execute_result"
    }
   ],
   "source": [
    "a%2"
   ]
  },
  {
   "cell_type": "code",
   "execution_count": 63,
   "id": "0f8ef23a",
   "metadata": {},
   "outputs": [
    {
     "data": {
      "text/plain": [
       "array([[-0.7568025 , -0.95892427, -0.2794155 ,  0.6569866 ],\n",
       "       [ 0.98935825,  0.41211849, -0.54402111, -0.99999021],\n",
       "       [-0.53657292,  0.42016704,  0.99060736,  0.65028784],\n",
       "       [-0.28790332, -0.96139749, -0.75098725,  0.91294525]])"
      ]
     },
     "execution_count": 63,
     "metadata": {},
     "output_type": "execute_result"
    }
   ],
   "source": [
    "np.sin(a)"
   ]
  },
  {
   "cell_type": "code",
   "execution_count": 64,
   "id": "ba14e784",
   "metadata": {},
   "outputs": [
    {
     "data": {
      "text/plain": [
       "array([[ -3.02720998,  -4.79462137,  -1.67649299,   4.59890619],\n",
       "       [  7.91486597,   3.70906637,  -5.44021111, -10.99989227],\n",
       "       [ -6.43887502,   5.46217148,  13.86850298,   9.7543176 ],\n",
       "       [ -4.60645307, -16.34375736, -13.51777044,  18.25890501]])"
      ]
     },
     "execution_count": 64,
     "metadata": {},
     "output_type": "execute_result"
    }
   ],
   "source": [
    "a*np.sin(a)"
   ]
  },
  {
   "cell_type": "code",
   "execution_count": 65,
   "id": "8825b7a1",
   "metadata": {},
   "outputs": [
    {
     "data": {
      "text/plain": [
       "array([[ 4,  5,  6,  7],\n",
       "       [ 8,  9, 10, 11],\n",
       "       [12, 13, 14, 15],\n",
       "       [16, 17, 18, 20]])"
      ]
     },
     "execution_count": 65,
     "metadata": {},
     "output_type": "execute_result"
    }
   ],
   "source": [
    "a"
   ]
  },
  {
   "cell_type": "code",
   "execution_count": 67,
   "id": "2b0664cc",
   "metadata": {},
   "outputs": [
    {
     "data": {
      "text/plain": [
       "True"
      ]
     },
     "execution_count": 67,
     "metadata": {},
     "output_type": "execute_result"
    }
   ],
   "source": [
    "np.asarray(a) is a"
   ]
  },
  {
   "cell_type": "code",
   "execution_count": 68,
   "id": "ea0bb709",
   "metadata": {},
   "outputs": [],
   "source": [
    "b=[35.35,35,34]"
   ]
  },
  {
   "cell_type": "code",
   "execution_count": 69,
   "id": "0df564ed",
   "metadata": {},
   "outputs": [
    {
     "data": {
      "text/plain": [
       "False"
      ]
     },
     "execution_count": 69,
     "metadata": {},
     "output_type": "execute_result"
    }
   ],
   "source": [
    "np.asarray(b) is b\n",
    "#bcuz it's a list"
   ]
  },
  {
   "cell_type": "code",
   "execution_count": 70,
   "id": "01d4f154",
   "metadata": {},
   "outputs": [],
   "source": [
    "np.empty?"
   ]
  },
  {
   "cell_type": "code",
   "execution_count": 74,
   "id": "b8d6b0c1",
   "metadata": {},
   "outputs": [],
   "source": [
    "b=np.empty([2,2])"
   ]
  },
  {
   "cell_type": "code",
   "execution_count": 75,
   "id": "8ef4e3db",
   "metadata": {},
   "outputs": [],
   "source": [
    "b.fill(4) # fill empty arr"
   ]
  },
  {
   "cell_type": "code",
   "execution_count": 79,
   "id": "bb9f9de0",
   "metadata": {},
   "outputs": [],
   "source": [
    "b.fill(4)"
   ]
  },
  {
   "cell_type": "code",
   "execution_count": 80,
   "id": "6e450b91",
   "metadata": {},
   "outputs": [],
   "source": [
    "b=b.astype(np.int32)"
   ]
  },
  {
   "cell_type": "code",
   "execution_count": 81,
   "id": "5337def7",
   "metadata": {},
   "outputs": [
    {
     "data": {
      "text/plain": [
       "array([[4, 4],\n",
       "       [4, 4]], dtype=int32)"
      ]
     },
     "execution_count": 81,
     "metadata": {},
     "output_type": "execute_result"
    }
   ],
   "source": [
    "b"
   ]
  },
  {
   "cell_type": "code",
   "execution_count": 82,
   "id": "f6494ee4",
   "metadata": {},
   "outputs": [
    {
     "data": {
      "text/plain": [
       "array([[ 4,  5,  6,  7],\n",
       "       [ 8,  9, 10, 11],\n",
       "       [12, 13, 14, 15],\n",
       "       [16, 17, 18, 20]])"
      ]
     },
     "execution_count": 82,
     "metadata": {},
     "output_type": "execute_result"
    }
   ],
   "source": [
    "a"
   ]
  },
  {
   "cell_type": "code",
   "execution_count": 83,
   "id": "62e3294a",
   "metadata": {},
   "outputs": [],
   "source": [
    "b=np.empty([4,4],dtype=int)"
   ]
  },
  {
   "cell_type": "code",
   "execution_count": 84,
   "id": "5d3501dc",
   "metadata": {},
   "outputs": [
    {
     "data": {
      "text/plain": [
       "array([[4613999089671741102, 4617084282184949696, 4610229072374068256,\n",
       "        4616863926479448263],\n",
       "       [4620597365289045883, 4615534493754570115, 4617811151608095526,\n",
       "        4622382006896952754],\n",
       "       [4618935547208079480, 4617835876786466837, 4623996891161219708,\n",
       "        4621680810694661818],\n",
       "       [4616872423505993976, 4625293576404949079, 4623799446295380459,\n",
       "        4625832642545862156]])"
      ]
     },
     "execution_count": 84,
     "metadata": {},
     "output_type": "execute_result"
    }
   ],
   "source": [
    "b"
   ]
  },
  {
   "cell_type": "code",
   "execution_count": 85,
   "id": "23c1e2c2",
   "metadata": {},
   "outputs": [],
   "source": [
    "b.fill(3)"
   ]
  },
  {
   "cell_type": "code",
   "execution_count": 86,
   "id": "46748895",
   "metadata": {},
   "outputs": [
    {
     "data": {
      "text/plain": [
       "array([[3, 3, 3, 3],\n",
       "       [3, 3, 3, 3],\n",
       "       [3, 3, 3, 3],\n",
       "       [3, 3, 3, 3]])"
      ]
     },
     "execution_count": 86,
     "metadata": {},
     "output_type": "execute_result"
    }
   ],
   "source": [
    "b"
   ]
  },
  {
   "cell_type": "code",
   "execution_count": 87,
   "id": "c96a7c18",
   "metadata": {},
   "outputs": [
    {
     "data": {
      "text/plain": [
       "array([[ 66,  66,  66,  66],\n",
       "       [114, 114, 114, 114],\n",
       "       [162, 162, 162, 162],\n",
       "       [213, 213, 213, 213]])"
      ]
     },
     "execution_count": 87,
     "metadata": {},
     "output_type": "execute_result"
    }
   ],
   "source": [
    "a.dot(b)\n",
    "# matrix multiplication"
   ]
  },
  {
   "cell_type": "code",
   "execution_count": 88,
   "id": "51cf2a4e",
   "metadata": {},
   "outputs": [
    {
     "data": {
      "text/plain": [
       "array([[ 66,  66,  66,  66],\n",
       "       [114, 114, 114, 114],\n",
       "       [162, 162, 162, 162],\n",
       "       [213, 213, 213, 213]])"
      ]
     },
     "execution_count": 88,
     "metadata": {},
     "output_type": "execute_result"
    }
   ],
   "source": [
    "np.dot(a,b)"
   ]
  },
  {
   "cell_type": "code",
   "execution_count": 89,
   "id": "44a46b5d",
   "metadata": {},
   "outputs": [
    {
     "data": {
      "text/plain": [
       "array([[ 6. ,  7.5,  9. , 10.5],\n",
       "       [12. , 13.5, 15. , 16.5],\n",
       "       [18. , 19.5, 21. , 22.5],\n",
       "       [24. , 25.5, 27. , 30. ]])"
      ]
     },
     "execution_count": 89,
     "metadata": {},
     "output_type": "execute_result"
    }
   ],
   "source": [
    "1.5*a\n",
    "# scaler multiplication"
   ]
  },
  {
   "cell_type": "code",
   "execution_count": 90,
   "id": "dc1919d8",
   "metadata": {},
   "outputs": [],
   "source": [
    "a+=2"
   ]
  },
  {
   "cell_type": "code",
   "execution_count": 94,
   "id": "9bb6c53f",
   "metadata": {},
   "outputs": [
    {
     "data": {
      "text/plain": [
       "array([[ 8,  9, 10, 11],\n",
       "       [12, 13, 14, 15],\n",
       "       [16, 17, 18, 19],\n",
       "       [20, 21, 22, 24]])"
      ]
     },
     "execution_count": 94,
     "metadata": {},
     "output_type": "execute_result"
    }
   ],
   "source": [
    "a"
   ]
  },
  {
   "cell_type": "code",
   "execution_count": 95,
   "id": "2262fbd3",
   "metadata": {},
   "outputs": [],
   "source": [
    "a+=2"
   ]
  },
  {
   "cell_type": "code",
   "execution_count": 96,
   "id": "99fca99e",
   "metadata": {},
   "outputs": [
    {
     "data": {
      "text/plain": [
       "array([[10, 11, 12, 13],\n",
       "       [14, 15, 16, 17],\n",
       "       [18, 19, 20, 21],\n",
       "       [22, 23, 24, 26]])"
      ]
     },
     "execution_count": 96,
     "metadata": {},
     "output_type": "execute_result"
    }
   ],
   "source": [
    "a"
   ]
  },
  {
   "cell_type": "code",
   "execution_count": 97,
   "id": "fa956d2a",
   "metadata": {},
   "outputs": [
    {
     "data": {
      "text/plain": [
       "array([[20, 22, 24, 26],\n",
       "       [28, 30, 32, 34],\n",
       "       [36, 38, 40, 42],\n",
       "       [44, 46, 48, 52]])"
      ]
     },
     "execution_count": 97,
     "metadata": {},
     "output_type": "execute_result"
    }
   ],
   "source": [
    "a*=2\n",
    "a"
   ]
  },
  {
   "cell_type": "code",
   "execution_count": 98,
   "id": "9cd96a73",
   "metadata": {},
   "outputs": [
    {
     "data": {
      "text/plain": [
       "array([[ 60,  66,  72,  78],\n",
       "       [ 84,  90,  96, 102],\n",
       "       [108, 114, 120, 126],\n",
       "       [132, 138, 144, 156]])"
      ]
     },
     "execution_count": 98,
     "metadata": {},
     "output_type": "execute_result"
    }
   ],
   "source": [
    "a*b"
   ]
  },
  {
   "cell_type": "code",
   "execution_count": 99,
   "id": "8b2b9952",
   "metadata": {},
   "outputs": [
    {
     "data": {
      "text/plain": [
       "array([[3, 3, 3, 3],\n",
       "       [3, 3, 3, 3],\n",
       "       [3, 3, 3, 3],\n",
       "       [3, 3, 3, 3]])"
      ]
     },
     "execution_count": 99,
     "metadata": {},
     "output_type": "execute_result"
    }
   ],
   "source": [
    "b"
   ]
  },
  {
   "cell_type": "code",
   "execution_count": 100,
   "id": "392ff14b",
   "metadata": {},
   "outputs": [
    {
     "data": {
      "text/plain": [
       "array([[4.47213595, 4.69041576, 4.89897949, 5.09901951],\n",
       "       [5.29150262, 5.47722558, 5.65685425, 5.83095189],\n",
       "       [6.        , 6.164414  , 6.32455532, 6.4807407 ],\n",
       "       [6.63324958, 6.78232998, 6.92820323, 7.21110255]])"
      ]
     },
     "execution_count": 100,
     "metadata": {},
     "output_type": "execute_result"
    }
   ],
   "source": [
    "np.sqrt(a)"
   ]
  },
  {
   "cell_type": "code",
   "execution_count": 101,
   "id": "02a7655e",
   "metadata": {},
   "outputs": [
    {
     "data": {
      "text/plain": [
       "array([[1.73205081, 1.73205081, 1.73205081, 1.73205081],\n",
       "       [1.73205081, 1.73205081, 1.73205081, 1.73205081],\n",
       "       [1.73205081, 1.73205081, 1.73205081, 1.73205081],\n",
       "       [1.73205081, 1.73205081, 1.73205081, 1.73205081]])"
      ]
     },
     "execution_count": 101,
     "metadata": {},
     "output_type": "execute_result"
    }
   ],
   "source": [
    "np.sqrt(b)"
   ]
  },
  {
   "cell_type": "code",
   "execution_count": 102,
   "id": "ccfbe55e",
   "metadata": {},
   "outputs": [
    {
     "data": {
      "text/plain": [
       "array([[9, 9, 9, 9],\n",
       "       [9, 9, 9, 9],\n",
       "       [9, 9, 9, 9],\n",
       "       [9, 9, 9, 9]])"
      ]
     },
     "execution_count": 102,
     "metadata": {},
     "output_type": "execute_result"
    }
   ],
   "source": [
    "np.square(b)"
   ]
  },
  {
   "cell_type": "code",
   "execution_count": 103,
   "id": "03597601",
   "metadata": {},
   "outputs": [
    {
     "data": {
      "text/plain": [
       "array([[ 400,  484,  576,  676],\n",
       "       [ 784,  900, 1024, 1156],\n",
       "       [1296, 1444, 1600, 1764],\n",
       "       [1936, 2116, 2304, 2704]])"
      ]
     },
     "execution_count": 103,
     "metadata": {},
     "output_type": "execute_result"
    }
   ],
   "source": [
    "np.square(a)"
   ]
  },
  {
   "cell_type": "code",
   "execution_count": 104,
   "id": "b35291e3",
   "metadata": {},
   "outputs": [
    {
     "ename": "TypeError",
     "evalue": "remainder() takes from 2 to 3 positional arguments but 1 were given",
     "output_type": "error",
     "traceback": [
      "\u001b[0;31m---------------------------------------------------------------------------\u001b[0m",
      "\u001b[0;31mTypeError\u001b[0m                                 Traceback (most recent call last)",
      "\u001b[0;32m/tmp/ipykernel_3515/1504410415.py\u001b[0m in \u001b[0;36m<module>\u001b[0;34m\u001b[0m\n\u001b[0;32m----> 1\u001b[0;31m \u001b[0mnp\u001b[0m\u001b[0;34m.\u001b[0m\u001b[0mmod\u001b[0m\u001b[0;34m(\u001b[0m\u001b[0ma\u001b[0m\u001b[0;34m)\u001b[0m\u001b[0;34m\u001b[0m\u001b[0;34m\u001b[0m\u001b[0m\n\u001b[0m",
      "\u001b[0;31mTypeError\u001b[0m: remainder() takes from 2 to 3 positional arguments but 1 were given"
     ]
    }
   ],
   "source": [
    "np.mod?"
   ]
  },
  {
   "cell_type": "code",
   "execution_count": 105,
   "id": "af6fe14d",
   "metadata": {},
   "outputs": [
    {
     "data": {
      "text/plain": [
       "array([[0, 2, 0, 2],\n",
       "       [0, 2, 0, 2],\n",
       "       [0, 2, 0, 2],\n",
       "       [0, 2, 0, 0]])"
      ]
     },
     "execution_count": 105,
     "metadata": {},
     "output_type": "execute_result"
    }
   ],
   "source": [
    "np.mod(a,4)"
   ]
  },
  {
   "cell_type": "code",
   "execution_count": 106,
   "id": "143ca645",
   "metadata": {},
   "outputs": [
    {
     "data": {
      "text/plain": [
       "array([[20, 22, 24, 26],\n",
       "       [28, 30, 32, 34],\n",
       "       [36, 38, 40, 42],\n",
       "       [44, 46, 48, 52]])"
      ]
     },
     "execution_count": 106,
     "metadata": {},
     "output_type": "execute_result"
    }
   ],
   "source": [
    "a"
   ]
  },
  {
   "cell_type": "code",
   "execution_count": 107,
   "id": "a837ae1a",
   "metadata": {},
   "outputs": [
    {
     "data": {
      "text/plain": [
       "array([[2, 1, 0, 2],\n",
       "       [1, 0, 2, 1],\n",
       "       [0, 2, 1, 0],\n",
       "       [2, 1, 0, 1]])"
      ]
     },
     "execution_count": 107,
     "metadata": {},
     "output_type": "execute_result"
    }
   ],
   "source": [
    "np.mod(a,3)"
   ]
  },
  {
   "cell_type": "code",
   "execution_count": 108,
   "id": "23e6ad45",
   "metadata": {},
   "outputs": [
    {
     "data": {
      "text/plain": [
       "array([[0, 2, 0, 2],\n",
       "       [0, 2, 0, 2],\n",
       "       [0, 2, 0, 2],\n",
       "       [0, 2, 0, 0]])"
      ]
     },
     "execution_count": 108,
     "metadata": {},
     "output_type": "execute_result"
    }
   ],
   "source": [
    "np.remainder(a,4)\n",
    "#np.remainder and np.mod both are same"
   ]
  },
  {
   "cell_type": "code",
   "execution_count": 109,
   "id": "9718978b",
   "metadata": {},
   "outputs": [],
   "source": [
    "np.modf?"
   ]
  },
  {
   "cell_type": "code",
   "execution_count": 110,
   "id": "68cbb5e5",
   "metadata": {},
   "outputs": [],
   "source": [
    "fract,intergral=np.modf(a)"
   ]
  },
  {
   "cell_type": "code",
   "execution_count": 111,
   "id": "6a2ccceb",
   "metadata": {},
   "outputs": [
    {
     "data": {
      "text/plain": [
       "array([[0., 0., 0., 0.],\n",
       "       [0., 0., 0., 0.],\n",
       "       [0., 0., 0., 0.],\n",
       "       [0., 0., 0., 0.]])"
      ]
     },
     "execution_count": 111,
     "metadata": {},
     "output_type": "execute_result"
    }
   ],
   "source": [
    "fract"
   ]
  },
  {
   "cell_type": "code",
   "execution_count": 112,
   "id": "68626bb2",
   "metadata": {},
   "outputs": [
    {
     "data": {
      "text/plain": [
       "array([[20., 22., 24., 26.],\n",
       "       [28., 30., 32., 34.],\n",
       "       [36., 38., 40., 42.],\n",
       "       [44., 46., 48., 52.]])"
      ]
     },
     "execution_count": 112,
     "metadata": {},
     "output_type": "execute_result"
    }
   ],
   "source": [
    "intergral"
   ]
  },
  {
   "cell_type": "code",
   "execution_count": 117,
   "id": "b45047b5",
   "metadata": {},
   "outputs": [
    {
     "data": {
      "text/plain": [
       "(array([[0., 0., 0., 0.],\n",
       "        [0., 0., 0., 0.],\n",
       "        [0., 0., 0., 0.],\n",
       "        [0., 0., 0., 0.]]),\n",
       " array([[20., 22., 24., 26.],\n",
       "        [28., 30., 32., 34.],\n",
       "        [36., 38., 40., 42.],\n",
       "        [44., 46., 48., 52.]]))"
      ]
     },
     "execution_count": 117,
     "metadata": {},
     "output_type": "execute_result"
    }
   ],
   "source": [
    "np.modf(a)"
   ]
  },
  {
   "cell_type": "code",
   "execution_count": 118,
   "id": "871be2c0",
   "metadata": {},
   "outputs": [
    {
     "data": {
      "text/plain": [
       "(array([[ 6,  7,  8,  8],\n",
       "        [ 9, 10, 10, 11],\n",
       "        [12, 12, 13, 14],\n",
       "        [14, 15, 16, 17]]),\n",
       " array([[2, 1, 0, 2],\n",
       "        [1, 0, 2, 1],\n",
       "        [0, 2, 1, 0],\n",
       "        [2, 1, 0, 1]]))"
      ]
     },
     "execution_count": 118,
     "metadata": {},
     "output_type": "execute_result"
    }
   ],
   "source": [
    "np.divmod(a,3)\n",
    "# return quotient and remainder"
   ]
  },
  {
   "cell_type": "code",
   "execution_count": 119,
   "id": "104f0b8c",
   "metadata": {},
   "outputs": [
    {
     "data": {
      "text/plain": [
       "(array([[ 5,  5,  6,  6],\n",
       "        [ 7,  7,  8,  8],\n",
       "        [ 9,  9, 10, 10],\n",
       "        [11, 11, 12, 13]]),\n",
       " array([[0, 2, 0, 2],\n",
       "        [0, 2, 0, 2],\n",
       "        [0, 2, 0, 2],\n",
       "        [0, 2, 0, 0]]))"
      ]
     },
     "execution_count": 119,
     "metadata": {},
     "output_type": "execute_result"
    }
   ],
   "source": [
    "np.divmod(a,4)"
   ]
  },
  {
   "cell_type": "code",
   "execution_count": 120,
   "id": "21767053",
   "metadata": {},
   "outputs": [
    {
     "data": {
      "text/plain": [
       "array([[20, 22, 24, 26],\n",
       "       [28, 30, 32, 34],\n",
       "       [36, 38, 40, 42],\n",
       "       [44, 46, 48, 52]])"
      ]
     },
     "execution_count": 120,
     "metadata": {},
     "output_type": "execute_result"
    }
   ],
   "source": [
    "a"
   ]
  },
  {
   "cell_type": "code",
   "execution_count": 121,
   "id": "2784d293",
   "metadata": {},
   "outputs": [
    {
     "data": {
      "text/plain": [
       "52"
      ]
     },
     "execution_count": 121,
     "metadata": {},
     "output_type": "execute_result"
    }
   ],
   "source": [
    "a.max()"
   ]
  },
  {
   "cell_type": "code",
   "execution_count": 123,
   "id": "9f0e6c04",
   "metadata": {},
   "outputs": [
    {
     "data": {
      "text/plain": [
       "52"
      ]
     },
     "execution_count": 123,
     "metadata": {},
     "output_type": "execute_result"
    }
   ],
   "source": [
    "np.max(a)"
   ]
  },
  {
   "cell_type": "code",
   "execution_count": 124,
   "id": "41276fe1",
   "metadata": {},
   "outputs": [
    {
     "data": {
      "text/plain": [
       "35.125"
      ]
     },
     "execution_count": 124,
     "metadata": {},
     "output_type": "execute_result"
    }
   ],
   "source": [
    "np.mean(a)"
   ]
  },
  {
   "cell_type": "code",
   "execution_count": 125,
   "id": "8bec03b4",
   "metadata": {},
   "outputs": [
    {
     "data": {
      "text/plain": [
       "35.0"
      ]
     },
     "execution_count": 125,
     "metadata": {},
     "output_type": "execute_result"
    }
   ],
   "source": [
    "np.median(a)"
   ]
  },
  {
   "cell_type": "code",
   "execution_count": 126,
   "id": "189ca4c5",
   "metadata": {},
   "outputs": [
    {
     "data": {
      "text/plain": [
       "9.433152972362953"
      ]
     },
     "execution_count": 126,
     "metadata": {},
     "output_type": "execute_result"
    }
   ],
   "source": [
    "np.std(a)"
   ]
  },
  {
   "cell_type": "code",
   "execution_count": 127,
   "id": "a9b9b3b1",
   "metadata": {},
   "outputs": [
    {
     "data": {
      "text/plain": [
       "88.984375"
      ]
     },
     "execution_count": 127,
     "metadata": {},
     "output_type": "execute_result"
    }
   ],
   "source": [
    "np.var(a)"
   ]
  },
  {
   "cell_type": "code",
   "execution_count": 128,
   "id": "0b3f5357",
   "metadata": {},
   "outputs": [],
   "source": [
    "np.eye?"
   ]
  },
  {
   "cell_type": "code",
   "execution_count": 129,
   "id": "0ab07829",
   "metadata": {},
   "outputs": [
    {
     "data": {
      "text/plain": [
       "array([[1., 0., 0.],\n",
       "       [0., 1., 0.]])"
      ]
     },
     "execution_count": 129,
     "metadata": {},
     "output_type": "execute_result"
    }
   ],
   "source": [
    "np.eye(2,3,k=0)"
   ]
  },
  {
   "cell_type": "code",
   "execution_count": 130,
   "id": "aa603582",
   "metadata": {},
   "outputs": [
    {
     "data": {
      "text/plain": [
       "array([[1., 0., 0.],\n",
       "       [0., 1., 0.],\n",
       "       [0., 0., 1.]])"
      ]
     },
     "execution_count": 130,
     "metadata": {},
     "output_type": "execute_result"
    }
   ],
   "source": [
    "np.eye(3,3,k=0)"
   ]
  },
  {
   "cell_type": "code",
   "execution_count": 131,
   "id": "abb2bb29",
   "metadata": {},
   "outputs": [
    {
     "data": {
      "text/plain": [
       "array([[0, 1, 0],\n",
       "       [0, 0, 1],\n",
       "       [0, 0, 0]])"
      ]
     },
     "execution_count": 131,
     "metadata": {},
     "output_type": "execute_result"
    }
   ],
   "source": [
    "np.eye(3,3,k=1,dtype=int)"
   ]
  },
  {
   "cell_type": "code",
   "execution_count": 132,
   "id": "bd3da903",
   "metadata": {},
   "outputs": [
    {
     "data": {
      "text/plain": [
       "array([[0, 0, 0],\n",
       "       [1, 0, 0],\n",
       "       [0, 1, 0]])"
      ]
     },
     "execution_count": 132,
     "metadata": {},
     "output_type": "execute_result"
    }
   ],
   "source": [
    "np.eye(3,3,k=-1,dtype=int)"
   ]
  },
  {
   "cell_type": "code",
   "execution_count": 133,
   "id": "4b9ec587",
   "metadata": {},
   "outputs": [
    {
     "data": {
      "text/plain": [
       "array([[20, 22, 24, 26],\n",
       "       [28, 30, 32, 34],\n",
       "       [36, 38, 40, 42],\n",
       "       [44, 46, 48, 52]])"
      ]
     },
     "execution_count": 133,
     "metadata": {},
     "output_type": "execute_result"
    }
   ],
   "source": [
    "a"
   ]
  },
  {
   "cell_type": "code",
   "execution_count": 136,
   "id": "9944f80b",
   "metadata": {},
   "outputs": [
    {
     "data": {
      "text/plain": [
       "array([[1, 0, 0, 0],\n",
       "       [0, 1, 0, 0],\n",
       "       [0, 0, 1, 0],\n",
       "       [0, 0, 0, 1]])"
      ]
     },
     "execution_count": 136,
     "metadata": {},
     "output_type": "execute_result"
    }
   ],
   "source": [
    "np.eye(a.shape[0],a.shape[1],dtype=int)"
   ]
  },
  {
   "cell_type": "code",
   "execution_count": 137,
   "id": "e7239667",
   "metadata": {},
   "outputs": [
    {
     "data": {
      "text/plain": [
       "array([[4., 5., 3., 5.],\n",
       "       [6., 4., 7., 2.]], dtype=float32)"
      ]
     },
     "execution_count": 137,
     "metadata": {},
     "output_type": "execute_result"
    }
   ],
   "source": [
    "list_arr"
   ]
  },
  {
   "cell_type": "code",
   "execution_count": 141,
   "id": "0859f5e5",
   "metadata": {},
   "outputs": [
    {
     "data": {
      "text/plain": [
       "8"
      ]
     },
     "execution_count": 141,
     "metadata": {},
     "output_type": "execute_result"
    }
   ],
   "source": [
    "list_arr=[4,5,3,5,325,23,23,5]\n",
    "type(list_arr)\n",
    "len(list_arr)"
   ]
  },
  {
   "cell_type": "code",
   "execution_count": 142,
   "id": "4db78568",
   "metadata": {},
   "outputs": [
    {
     "data": {
      "text/plain": [
       "array([[  4,   5,   3,   5],\n",
       "       [325,  23,  23,   5]])"
      ]
     },
     "execution_count": 142,
     "metadata": {},
     "output_type": "execute_result"
    }
   ],
   "source": [
    "np.asarray(list_arr).reshape(2,4)"
   ]
  },
  {
   "cell_type": "code",
   "execution_count": 143,
   "id": "a4d61968",
   "metadata": {},
   "outputs": [],
   "source": [
    "np.identity?\n"
   ]
  },
  {
   "cell_type": "code",
   "execution_count": 149,
   "id": "ea9113e1",
   "metadata": {},
   "outputs": [
    {
     "data": {
      "text/plain": [
       "array([[1., 0., 0., 0.],\n",
       "       [0., 1., 0., 0.],\n",
       "       [0., 0., 1., 0.],\n",
       "       [0., 0., 0., 1.]])"
      ]
     },
     "execution_count": 149,
     "metadata": {},
     "output_type": "execute_result"
    }
   ],
   "source": [
    "np.identity(4)"
   ]
  },
  {
   "cell_type": "code",
   "execution_count": 151,
   "id": "722b18aa",
   "metadata": {},
   "outputs": [
    {
     "data": {
      "text/plain": [
       "array([[1., 0., 0., 0.],\n",
       "       [0., 1., 0., 0.],\n",
       "       [0., 0., 1., 0.],\n",
       "       [0., 0., 0., 1.]])"
      ]
     },
     "execution_count": 151,
     "metadata": {},
     "output_type": "execute_result"
    }
   ],
   "source": [
    "np.identity(a.shape[0],like=a)"
   ]
  },
  {
   "cell_type": "raw",
   "id": "7c531870",
   "metadata": {},
   "source": [
    "a"
   ]
  },
  {
   "cell_type": "code",
   "execution_count": 152,
   "id": "259704bf",
   "metadata": {},
   "outputs": [
    {
     "data": {
      "text/plain": [
       "array([[20, 22, 24, 26],\n",
       "       [28, 30, 32, 34],\n",
       "       [36, 38, 40, 42],\n",
       "       [44, 46, 48, 52]])"
      ]
     },
     "execution_count": 152,
     "metadata": {},
     "output_type": "execute_result"
    }
   ],
   "source": [
    "a"
   ]
  },
  {
   "cell_type": "code",
   "execution_count": 153,
   "id": "624d8d1b",
   "metadata": {},
   "outputs": [
    {
     "data": {
      "text/plain": [
       "array([23. , 31. , 39. , 47.5])"
      ]
     },
     "execution_count": 153,
     "metadata": {},
     "output_type": "execute_result"
    }
   ],
   "source": [
    "np.mean(a,axis=1)"
   ]
  },
  {
   "cell_type": "code",
   "execution_count": 154,
   "id": "dfa16966",
   "metadata": {},
   "outputs": [
    {
     "data": {
      "text/plain": [
       "array([32. , 34. , 36. , 38.5])"
      ]
     },
     "execution_count": 154,
     "metadata": {},
     "output_type": "execute_result"
    }
   ],
   "source": [
    "np.mean(a,axis=0)"
   ]
  },
  {
   "cell_type": "code",
   "execution_count": 155,
   "id": "e8729869",
   "metadata": {},
   "outputs": [
    {
     "data": {
      "text/plain": [
       "array([ 92, 124, 156, 190])"
      ]
     },
     "execution_count": 155,
     "metadata": {},
     "output_type": "execute_result"
    }
   ],
   "source": [
    "np.sum(a,axis=1,dtype=int)"
   ]
  },
  {
   "cell_type": "code",
   "execution_count": 156,
   "id": "1ddb2e03",
   "metadata": {},
   "outputs": [
    {
     "data": {
      "text/plain": [
       "562"
      ]
     },
     "execution_count": 156,
     "metadata": {},
     "output_type": "execute_result"
    }
   ],
   "source": [
    "np.sum(a)"
   ]
  },
  {
   "cell_type": "code",
   "execution_count": 158,
   "id": "e2cab3dc",
   "metadata": {},
   "outputs": [
    {
     "data": {
      "text/plain": [
       "array([128, 136, 144, 154])"
      ]
     },
     "execution_count": 158,
     "metadata": {},
     "output_type": "execute_result"
    }
   ],
   "source": [
    "np.sum(a,axis=0,dtype=int)"
   ]
  },
  {
   "cell_type": "code",
   "execution_count": 159,
   "id": "695c22c0",
   "metadata": {},
   "outputs": [
    {
     "data": {
      "text/plain": [
       "array([[ 20,  42,  66,  92],\n",
       "       [ 28,  58,  90, 124],\n",
       "       [ 36,  74, 114, 156],\n",
       "       [ 44,  90, 138, 190]])"
      ]
     },
     "execution_count": 159,
     "metadata": {},
     "output_type": "execute_result"
    }
   ],
   "source": [
    "np.cumsum(a,axis=1,dtype=int)"
   ]
  },
  {
   "cell_type": "code",
   "execution_count": 160,
   "id": "f93e7bdf",
   "metadata": {},
   "outputs": [
    {
     "data": {
      "text/plain": [
       "array([[ 20,  22,  24,  26],\n",
       "       [ 48,  52,  56,  60],\n",
       "       [ 84,  90,  96, 102],\n",
       "       [128, 136, 144, 154]])"
      ]
     },
     "execution_count": 160,
     "metadata": {},
     "output_type": "execute_result"
    }
   ],
   "source": [
    "np.cumsum(a,axis=0,dtype=int)"
   ]
  },
  {
   "cell_type": "code",
   "execution_count": 162,
   "id": "1ca7caba",
   "metadata": {},
   "outputs": [
    {
     "data": {
      "text/plain": [
       "array([[     20,     440,   10560,  274560],\n",
       "       [     28,     840,   26880,  913920],\n",
       "       [     36,    1368,   54720, 2298240],\n",
       "       [     44,    2024,   97152, 5051904]])"
      ]
     },
     "execution_count": 162,
     "metadata": {},
     "output_type": "execute_result"
    }
   ],
   "source": [
    "a.cumprod(axis=1)"
   ]
  },
  {
   "cell_type": "code",
   "execution_count": 163,
   "id": "708220e1",
   "metadata": {},
   "outputs": [
    {
     "data": {
      "text/plain": [
       "array([[     20,      22,      24,      26],\n",
       "       [    560,     660,     768,     884],\n",
       "       [  20160,   25080,   30720,   37128],\n",
       "       [ 887040, 1153680, 1474560, 1930656]])"
      ]
     },
     "execution_count": 163,
     "metadata": {},
     "output_type": "execute_result"
    }
   ],
   "source": [
    "a.cumprod(axis=0)"
   ]
  },
  {
   "cell_type": "code",
   "execution_count": 164,
   "id": "994521d5",
   "metadata": {},
   "outputs": [
    {
     "data": {
      "text/plain": [
       "array([[20, 22, 24, 26],\n",
       "       [28, 30, 32, 34],\n",
       "       [36, 38, 40, 42],\n",
       "       [44, 46, 48, 52]])"
      ]
     },
     "execution_count": 164,
     "metadata": {},
     "output_type": "execute_result"
    }
   ],
   "source": [
    "np.maximum(a,b)"
   ]
  },
  {
   "cell_type": "code",
   "execution_count": 165,
   "id": "5b55bc8e",
   "metadata": {},
   "outputs": [
    {
     "data": {
      "text/plain": [
       "array([[20, 22, 24, 26],\n",
       "       [28, 30, 32, 34],\n",
       "       [36, 38, 40, 42],\n",
       "       [44, 46, 48, 52]])"
      ]
     },
     "execution_count": 165,
     "metadata": {},
     "output_type": "execute_result"
    }
   ],
   "source": [
    "a"
   ]
  },
  {
   "cell_type": "code",
   "execution_count": 166,
   "id": "cab624a3",
   "metadata": {},
   "outputs": [
    {
     "data": {
      "text/plain": [
       "array([[3, 3, 3, 3],\n",
       "       [3, 3, 3, 3],\n",
       "       [3, 3, 3, 3],\n",
       "       [3, 3, 3, 3]])"
      ]
     },
     "execution_count": 166,
     "metadata": {},
     "output_type": "execute_result"
    }
   ],
   "source": [
    "b"
   ]
  },
  {
   "cell_type": "code",
   "execution_count": 167,
   "id": "e4b04ba5",
   "metadata": {},
   "outputs": [
    {
     "data": {
      "text/plain": [
       "20"
      ]
     },
     "execution_count": 167,
     "metadata": {},
     "output_type": "execute_result"
    }
   ],
   "source": [
    "a.min()"
   ]
  },
  {
   "cell_type": "code",
   "execution_count": 171,
   "id": "8aaa48b9",
   "metadata": {},
   "outputs": [
    {
     "data": {
      "text/plain": [
       "array([[-21, -23, -25, -27],\n",
       "       [-29, -31, -33, -35],\n",
       "       [-37, -39, -41, -43],\n",
       "       [-45, -47, -49, -53]])"
      ]
     },
     "execution_count": 171,
     "metadata": {},
     "output_type": "execute_result"
    }
   ],
   "source": [
    "~np.maximum(a,b)"
   ]
  },
  {
   "cell_type": "code",
   "execution_count": 172,
   "id": "2f1cbd1a",
   "metadata": {},
   "outputs": [
    {
     "data": {
      "text/plain": [
       "array([[3, 3, 3, 3],\n",
       "       [3, 3, 3, 3],\n",
       "       [3, 3, 3, 3],\n",
       "       [3, 3, 3, 3]])"
      ]
     },
     "execution_count": 172,
     "metadata": {},
     "output_type": "execute_result"
    }
   ],
   "source": [
    "np.minimum(a,b)"
   ]
  },
  {
   "cell_type": "code",
   "execution_count": 173,
   "id": "98b10525",
   "metadata": {},
   "outputs": [],
   "source": [
    "np.minimum?"
   ]
  },
  {
   "cell_type": "code",
   "execution_count": 174,
   "id": "2f4966bb",
   "metadata": {},
   "outputs": [
    {
     "data": {
      "text/plain": [
       "array([[False, False, False, False],\n",
       "       [False, False,  True,  True],\n",
       "       [ True,  True,  True,  True],\n",
       "       [ True,  True,  True,  True]])"
      ]
     },
     "execution_count": 174,
     "metadata": {},
     "output_type": "execute_result"
    }
   ],
   "source": [
    "a>30"
   ]
  },
  {
   "cell_type": "code",
   "execution_count": 175,
   "id": "cfeb720d",
   "metadata": {},
   "outputs": [
    {
     "data": {
      "text/plain": [
       "array([32, 34, 36, 38, 40, 42, 44, 46, 48, 52])"
      ]
     },
     "execution_count": 175,
     "metadata": {},
     "output_type": "execute_result"
    }
   ],
   "source": [
    "a[a>30]"
   ]
  },
  {
   "cell_type": "code",
   "execution_count": 180,
   "id": "24644763",
   "metadata": {},
   "outputs": [
    {
     "data": {
      "text/plain": [
       "10"
      ]
     },
     "execution_count": 180,
     "metadata": {},
     "output_type": "execute_result"
    }
   ],
   "source": [
    "len(a[a>30])"
   ]
  },
  {
   "cell_type": "code",
   "execution_count": 181,
   "id": "aa95f7b3",
   "metadata": {},
   "outputs": [
    {
     "data": {
      "text/plain": [
       "5"
      ]
     },
     "execution_count": 181,
     "metadata": {},
     "output_type": "execute_result"
    }
   ],
   "source": [
    "len(a[a<30])"
   ]
  },
  {
   "cell_type": "code",
   "execution_count": 182,
   "id": "577df9f2",
   "metadata": {},
   "outputs": [
    {
     "data": {
      "text/plain": [
       "array([20, 22, 24, 26, 28])"
      ]
     },
     "execution_count": 182,
     "metadata": {},
     "output_type": "execute_result"
    }
   ],
   "source": [
    "a[a<30]"
   ]
  },
  {
   "cell_type": "code",
   "execution_count": 183,
   "id": "6499770b",
   "metadata": {},
   "outputs": [],
   "source": [
    "np.where?"
   ]
  },
  {
   "cell_type": "code",
   "execution_count": 184,
   "id": "28956a7a",
   "metadata": {},
   "outputs": [
    {
     "data": {
      "text/plain": [
       "array([[20, 22, 24, 26],\n",
       "       [28, 30, 32, 34],\n",
       "       [36, 38, 40, 42],\n",
       "       [44, 46, 48, 52]])"
      ]
     },
     "execution_count": 184,
     "metadata": {},
     "output_type": "execute_result"
    }
   ],
   "source": [
    "a"
   ]
  },
  {
   "cell_type": "code",
   "execution_count": 185,
   "id": "93880a08",
   "metadata": {},
   "outputs": [
    {
     "data": {
      "text/plain": [
       "array([[ 1,  1,  1,  1],\n",
       "       [ 1,  1,  1, -1],\n",
       "       [-1, -1, -1, -1],\n",
       "       [-1, -1, -1, -1]])"
      ]
     },
     "execution_count": 185,
     "metadata": {},
     "output_type": "execute_result"
    }
   ],
   "source": [
    "np.where(a>32,-1,1)"
   ]
  },
  {
   "cell_type": "code",
   "execution_count": 186,
   "id": "5c8b56d0",
   "metadata": {},
   "outputs": [],
   "source": [
    "tem=np.random.randn(3,3)"
   ]
  },
  {
   "cell_type": "code",
   "execution_count": 187,
   "id": "4363511f",
   "metadata": {},
   "outputs": [
    {
     "data": {
      "text/plain": [
       "array([[ 1.46393409,  0.9001728 , -0.53902762],\n",
       "       [ 0.23875801, -0.18807383, -1.37509966],\n",
       "       [ 0.21476076, -1.56072698,  0.95224918]])"
      ]
     },
     "execution_count": 187,
     "metadata": {},
     "output_type": "execute_result"
    }
   ],
   "source": [
    "tem"
   ]
  },
  {
   "cell_type": "code",
   "execution_count": 192,
   "id": "159e3659",
   "metadata": {},
   "outputs": [
    {
     "data": {
      "text/plain": [
       "array([[1.46393409, 0.9001728 , 1.07805524],\n",
       "       [0.23875801, 0.37614766, 2.75019932],\n",
       "       [0.21476076, 3.12145396, 0.95224918]])"
      ]
     },
     "execution_count": 192,
     "metadata": {},
     "output_type": "execute_result"
    }
   ],
   "source": [
    "np.where(tem<0,tem*-2,tem)"
   ]
  },
  {
   "cell_type": "code",
   "execution_count": 193,
   "id": "3147110f",
   "metadata": {},
   "outputs": [
    {
     "data": {
      "text/plain": [
       "array([[20, 22, 24, 26],\n",
       "       [28, 30, 32, 34],\n",
       "       [36, 38, 40, 42],\n",
       "       [44, 46, 48, 52]])"
      ]
     },
     "execution_count": 193,
     "metadata": {},
     "output_type": "execute_result"
    }
   ],
   "source": [
    "a\n"
   ]
  },
  {
   "cell_type": "code",
   "execution_count": 194,
   "id": "3ceba19f",
   "metadata": {},
   "outputs": [
    {
     "data": {
      "text/plain": [
       "array([[3, 3, 3, 3],\n",
       "       [3, 3, 3, 3],\n",
       "       [3, 3, 3, 3],\n",
       "       [3, 3, 3, 3]])"
      ]
     },
     "execution_count": 194,
     "metadata": {},
     "output_type": "execute_result"
    }
   ],
   "source": [
    "b"
   ]
  },
  {
   "cell_type": "code",
   "execution_count": 195,
   "id": "a7f28b9c",
   "metadata": {},
   "outputs": [],
   "source": [
    "b=np.random.randint(3,30)"
   ]
  },
  {
   "cell_type": "code",
   "execution_count": 196,
   "id": "7f8b2bdc",
   "metadata": {},
   "outputs": [
    {
     "data": {
      "text/plain": [
       "7"
      ]
     },
     "execution_count": 196,
     "metadata": {},
     "output_type": "execute_result"
    }
   ],
   "source": [
    "b"
   ]
  },
  {
   "cell_type": "code",
   "execution_count": 197,
   "id": "c016be18",
   "metadata": {},
   "outputs": [],
   "source": [
    "b=np.asarray(np.random.randn())"
   ]
  },
  {
   "cell_type": "code",
   "execution_count": 198,
   "id": "009fb6e2",
   "metadata": {},
   "outputs": [
    {
     "data": {
      "text/plain": [
       "array(-0.86930809)"
      ]
     },
     "execution_count": 198,
     "metadata": {},
     "output_type": "execute_result"
    }
   ],
   "source": [
    "b"
   ]
  },
  {
   "cell_type": "code",
   "execution_count": 206,
   "id": "55daa348",
   "metadata": {},
   "outputs": [],
   "source": [
    "b=np.linspace(-1,50,16,dtype=int).reshape(4,4)"
   ]
  },
  {
   "cell_type": "code",
   "execution_count": 207,
   "id": "f07812fe",
   "metadata": {},
   "outputs": [],
   "source": [
    "b+=12"
   ]
  },
  {
   "cell_type": "code",
   "execution_count": 210,
   "id": "d294340e",
   "metadata": {},
   "outputs": [
    {
     "data": {
      "text/plain": [
       "array([[20, 22, 24, 26],\n",
       "       [28, 30, 32, 34],\n",
       "       [36, 38, 40, 42],\n",
       "       [44, 46, 48, 52]])"
      ]
     },
     "execution_count": 210,
     "metadata": {},
     "output_type": "execute_result"
    }
   ],
   "source": [
    "a"
   ]
  },
  {
   "cell_type": "code",
   "execution_count": 211,
   "id": "7a86cc7a",
   "metadata": {},
   "outputs": [
    {
     "data": {
      "text/plain": [
       "array([[11, 14, 17, 21],\n",
       "       [24, 28, 31, 34],\n",
       "       [38, 41, 45, 48],\n",
       "       [51, 55, 58, 62]])"
      ]
     },
     "execution_count": 211,
     "metadata": {},
     "output_type": "execute_result"
    }
   ],
   "source": [
    "b"
   ]
  },
  {
   "cell_type": "code",
   "execution_count": 213,
   "id": "9f1faeb3",
   "metadata": {},
   "outputs": [
    {
     "data": {
      "text/plain": [
       "array([['a', 'a', 'a', 'a'],\n",
       "       ['a', 'a', 'a', 'b'],\n",
       "       ['b', 'b', 'b', 'b'],\n",
       "       ['b', 'b', 'b', 'b']], dtype='<U1')"
      ]
     },
     "execution_count": 213,
     "metadata": {},
     "output_type": "execute_result"
    }
   ],
   "source": [
    "np.where(a>b,'a' ,'b')"
   ]
  },
  {
   "cell_type": "code",
   "execution_count": 214,
   "id": "e313030c",
   "metadata": {},
   "outputs": [
    {
     "data": {
      "text/plain": [
       "array([[20, 28, 36, 44],\n",
       "       [22, 30, 38, 46],\n",
       "       [24, 32, 40, 48],\n",
       "       [26, 34, 42, 52]])"
      ]
     },
     "execution_count": 214,
     "metadata": {},
     "output_type": "execute_result"
    }
   ],
   "source": [
    "a=a.T\n",
    "a"
   ]
  },
  {
   "cell_type": "code",
   "execution_count": 217,
   "id": "b8917d26",
   "metadata": {},
   "outputs": [
    {
     "data": {
      "text/plain": [
       "array([[20, 22, 24, 26],\n",
       "       [28, 30, 32, 34],\n",
       "       [36, 38, 40, 42],\n",
       "       [44, 46, 48, 52]])"
      ]
     },
     "execution_count": 217,
     "metadata": {},
     "output_type": "execute_result"
    }
   ],
   "source": [
    "np.swapaxes(a,1,0)"
   ]
  },
  {
   "cell_type": "code",
   "execution_count": 218,
   "id": "59988c2b",
   "metadata": {},
   "outputs": [
    {
     "data": {
      "text/plain": [
       "<function numpy.swapaxes(a, axis1, axis2)>"
      ]
     },
     "execution_count": 218,
     "metadata": {},
     "output_type": "execute_result"
    }
   ],
   "source": [
    "np.swapaxes"
   ]
  },
  {
   "cell_type": "code",
   "execution_count": 219,
   "id": "1a2694ec",
   "metadata": {},
   "outputs": [],
   "source": [
    "tem=np.random.randn(3,5)"
   ]
  },
  {
   "cell_type": "code",
   "execution_count": 220,
   "id": "4da0488b",
   "metadata": {},
   "outputs": [
    {
     "data": {
      "text/plain": [
       "array([[ 0.09758942,  0.38849561, -0.13295625, -2.1958337 , -2.32416306],\n",
       "       [-0.93652866, -0.04851154, -0.36623375,  0.33586825, -0.67786797],\n",
       "       [ 0.159221  ,  1.3172709 ,  0.59533839,  0.43592718, -0.61656015]])"
      ]
     },
     "execution_count": 220,
     "metadata": {},
     "output_type": "execute_result"
    }
   ],
   "source": [
    "tem"
   ]
  },
  {
   "cell_type": "code",
   "execution_count": 221,
   "id": "9d4090ec",
   "metadata": {},
   "outputs": [],
   "source": [
    "tem.sort()"
   ]
  },
  {
   "cell_type": "code",
   "execution_count": 222,
   "id": "5a06cbbc",
   "metadata": {},
   "outputs": [
    {
     "data": {
      "text/plain": [
       "array([[-2.32416306, -2.1958337 , -0.13295625,  0.09758942,  0.38849561],\n",
       "       [-0.93652866, -0.67786797, -0.36623375, -0.04851154,  0.33586825],\n",
       "       [-0.61656015,  0.159221  ,  0.43592718,  0.59533839,  1.3172709 ]])"
      ]
     },
     "execution_count": 222,
     "metadata": {},
     "output_type": "execute_result"
    }
   ],
   "source": [
    "tem"
   ]
  },
  {
   "cell_type": "code",
   "execution_count": 226,
   "id": "3f6ae90e",
   "metadata": {},
   "outputs": [],
   "source": [
    "tem.sort(axis=1)"
   ]
  },
  {
   "cell_type": "code",
   "execution_count": 227,
   "id": "aa16edd3",
   "metadata": {},
   "outputs": [
    {
     "data": {
      "text/plain": [
       "array([[-2.32416306, -2.1958337 , -0.36623375, -0.04851154,  0.33586825],\n",
       "       [-0.93652866, -0.67786797, -0.13295625,  0.09758942,  0.38849561],\n",
       "       [-0.61656015,  0.159221  ,  0.43592718,  0.59533839,  1.3172709 ]])"
      ]
     },
     "execution_count": 227,
     "metadata": {},
     "output_type": "execute_result"
    }
   ],
   "source": [
    "tem"
   ]
  },
  {
   "cell_type": "code",
   "execution_count": 229,
   "id": "f6f4007b",
   "metadata": {},
   "outputs": [
    {
     "data": {
      "text/plain": [
       "array([-2.32416306, -2.1958337 , -0.93652866, -0.67786797, -0.61656015,\n",
       "       -0.36623375, -0.13295625, -0.04851154,  0.09758942,  0.159221  ,\n",
       "        0.33586825,  0.38849561,  0.43592718,  0.59533839,  1.3172709 ])"
      ]
     },
     "execution_count": 229,
     "metadata": {},
     "output_type": "execute_result"
    }
   ],
   "source": [
    "np.unique(tem)"
   ]
  },
  {
   "cell_type": "code",
   "execution_count": 230,
   "id": "a4fcb10f",
   "metadata": {},
   "outputs": [],
   "source": [
    "!mv /home/agua2de/numpy_arr.npy /home/agua2de/Desktop/numpy/"
   ]
  },
  {
   "cell_type": "code",
   "execution_count": 231,
   "id": "2608730f",
   "metadata": {},
   "outputs": [
    {
     "name": "stdout",
     "output_type": "stream",
     "text": [
      "numpy_arr.npy  numpy_practice_1.ipynb\r\n"
     ]
    }
   ],
   "source": [
    "!ls"
   ]
  },
  {
   "cell_type": "code",
   "execution_count": 232,
   "id": "b73e4ecc",
   "metadata": {},
   "outputs": [],
   "source": [
    "load=np.load('numpy_arr.npy')"
   ]
  },
  {
   "cell_type": "code",
   "execution_count": 233,
   "id": "58c7f77a",
   "metadata": {},
   "outputs": [
    {
     "data": {
      "text/plain": [
       "array([0, 1, 2, 3, 4, 5, 6, 7, 8, 9])"
      ]
     },
     "execution_count": 233,
     "metadata": {},
     "output_type": "execute_result"
    }
   ],
   "source": [
    "load"
   ]
  },
  {
   "cell_type": "code",
   "execution_count": 234,
   "id": "4d414885",
   "metadata": {},
   "outputs": [
    {
     "data": {
      "text/plain": [
       "True"
      ]
     },
     "execution_count": 234,
     "metadata": {},
     "output_type": "execute_result"
    }
   ],
   "source": [
    "np.any(load)\n",
    "# if single element is True or True_valued"
   ]
  },
  {
   "cell_type": "code",
   "execution_count": 235,
   "id": "9b2efea4",
   "metadata": {},
   "outputs": [
    {
     "data": {
      "text/plain": [
       "False"
      ]
     },
     "execution_count": 235,
     "metadata": {},
     "output_type": "execute_result"
    }
   ],
   "source": [
    "np.all(load)\n",
    "# if all elements are True or True_values i.e except than 0"
   ]
  },
  {
   "cell_type": "code",
   "execution_count": 236,
   "id": "7a9f827d",
   "metadata": {},
   "outputs": [
    {
     "data": {
      "text/plain": [
       "array([[ 0.84147098, -0.7568025 ,  0.90929743],\n",
       "       [-0.95892427,  0.14112001, -0.95892427]])"
      ]
     },
     "execution_count": 236,
     "metadata": {},
     "output_type": "execute_result"
    }
   ],
   "source": [
    "np.sin([[1,4,2],[5,3,5]])"
   ]
  },
  {
   "cell_type": "code",
   "execution_count": 237,
   "id": "eb92ce1d",
   "metadata": {},
   "outputs": [
    {
     "name": "stderr",
     "output_type": "stream",
     "text": [
      "/tmp/ipykernel_3515/1565107748.py:1: RuntimeWarning: invalid value encountered in arcsin\n",
      "  np.arcsin([[1,4,2],[5,3,5]])\n"
     ]
    },
    {
     "data": {
      "text/plain": [
       "array([[1.57079633,        nan,        nan],\n",
       "       [       nan,        nan,        nan]])"
      ]
     },
     "execution_count": 237,
     "metadata": {},
     "output_type": "execute_result"
    }
   ],
   "source": [
    "np.arcsin([[1,4,2],[5,3,5]])"
   ]
  },
  {
   "cell_type": "code",
   "execution_count": 238,
   "id": "573dfa74",
   "metadata": {},
   "outputs": [
    {
     "data": {
      "text/plain": [
       "array([[ 0.54030231, -0.65364362, -0.41614684],\n",
       "       [ 0.28366219, -0.9899925 ,  0.28366219]])"
      ]
     },
     "execution_count": 238,
     "metadata": {},
     "output_type": "execute_result"
    }
   ],
   "source": [
    "np.cos([[1,4,2],[5,3,5]])"
   ]
  },
  {
   "cell_type": "code",
   "execution_count": 239,
   "id": "ed06c9bc",
   "metadata": {},
   "outputs": [
    {
     "data": {
      "text/plain": [
       "array([[ 1.55740772,  1.15782128, -2.18503986],\n",
       "       [-3.38051501, -0.14254654, -3.38051501]])"
      ]
     },
     "execution_count": 239,
     "metadata": {},
     "output_type": "execute_result"
    }
   ],
   "source": [
    "np.tan([[1,4,2],[5,3,5]])\n"
   ]
  },
  {
   "cell_type": "code",
   "execution_count": 240,
   "id": "70a940ee",
   "metadata": {},
   "outputs": [
    {
     "data": {
      "text/plain": [
       "array([[0.76159416, 0.9993293 , 0.96402758],\n",
       "       [0.9999092 , 0.99505475, 0.9999092 ]])"
      ]
     },
     "execution_count": 240,
     "metadata": {},
     "output_type": "execute_result"
    }
   ],
   "source": [
    "np.tanh([[1,4,2],[5,3,5]])"
   ]
  },
  {
   "cell_type": "code",
   "execution_count": 246,
   "id": "f91b1e74",
   "metadata": {},
   "outputs": [],
   "source": [
    "my3d=np.array([[[1, 2], [3, 4]], [[5, 6], [7, 8]]])"
   ]
  },
  {
   "cell_type": "code",
   "execution_count": 247,
   "id": "e947a5fb",
   "metadata": {},
   "outputs": [
    {
     "data": {
      "text/plain": [
       "(2, 2, 2)"
      ]
     },
     "execution_count": 247,
     "metadata": {},
     "output_type": "execute_result"
    }
   ],
   "source": [
    "my3d.shape"
   ]
  },
  {
   "cell_type": "code",
   "execution_count": 248,
   "id": "d8f2021c",
   "metadata": {},
   "outputs": [
    {
     "data": {
      "text/plain": [
       "3"
      ]
     },
     "execution_count": 248,
     "metadata": {},
     "output_type": "execute_result"
    }
   ],
   "source": [
    "my3d.ndim"
   ]
  },
  {
   "cell_type": "code",
   "execution_count": 249,
   "id": "b593edaa",
   "metadata": {},
   "outputs": [
    {
     "data": {
      "text/plain": [
       "array([[[1, 2],\n",
       "        [3, 4]],\n",
       "\n",
       "       [[5, 6],\n",
       "        [7, 8]]])"
      ]
     },
     "execution_count": 249,
     "metadata": {},
     "output_type": "execute_result"
    }
   ],
   "source": [
    "my3d"
   ]
  },
  {
   "cell_type": "code",
   "execution_count": 250,
   "id": "38b4925a",
   "metadata": {},
   "outputs": [
    {
     "data": {
      "text/plain": [
       "array([[[1, 5],\n",
       "        [3, 7]],\n",
       "\n",
       "       [[2, 6],\n",
       "        [4, 8]]])"
      ]
     },
     "execution_count": 250,
     "metadata": {},
     "output_type": "execute_result"
    }
   ],
   "source": [
    "my3d.T"
   ]
  },
  {
   "cell_type": "code",
   "execution_count": 252,
   "id": "57d01094",
   "metadata": {},
   "outputs": [
    {
     "data": {
      "text/plain": [
       "array([[[1, 3],\n",
       "        [2, 4]],\n",
       "\n",
       "       [[5, 7],\n",
       "        [6, 8]]])"
      ]
     },
     "execution_count": 252,
     "metadata": {},
     "output_type": "execute_result"
    }
   ],
   "source": [
    "my3d.swapaxes(2,1)"
   ]
  },
  {
   "cell_type": "code",
   "execution_count": 253,
   "id": "dcb8e2d6",
   "metadata": {},
   "outputs": [
    {
     "data": {
      "text/plain": [
       "array([[[1, 2],\n",
       "        [3, 4]],\n",
       "\n",
       "       [[5, 6],\n",
       "        [7, 8]]])"
      ]
     },
     "execution_count": 253,
     "metadata": {},
     "output_type": "execute_result"
    }
   ],
   "source": [
    "my3d"
   ]
  },
  {
   "cell_type": "code",
   "execution_count": 254,
   "id": "7bdfaa43",
   "metadata": {},
   "outputs": [
    {
     "data": {
      "text/plain": [
       "array([[20, 28, 36, 44],\n",
       "       [22, 30, 38, 46],\n",
       "       [24, 32, 40, 48],\n",
       "       [26, 34, 42, 52]])"
      ]
     },
     "execution_count": 254,
     "metadata": {},
     "output_type": "execute_result"
    }
   ],
   "source": [
    "a"
   ]
  },
  {
   "cell_type": "code",
   "execution_count": 255,
   "id": "7df801c2",
   "metadata": {},
   "outputs": [
    {
     "data": {
      "text/plain": [
       "2"
      ]
     },
     "execution_count": 255,
     "metadata": {},
     "output_type": "execute_result"
    }
   ],
   "source": [
    "a.ndim"
   ]
  },
  {
   "cell_type": "code",
   "execution_count": 256,
   "id": "041ba6eb",
   "metadata": {},
   "outputs": [
    {
     "data": {
      "text/plain": [
       "array([26, 34, 42, 52])"
      ]
     },
     "execution_count": 256,
     "metadata": {},
     "output_type": "execute_result"
    }
   ],
   "source": [
    "a[-1]"
   ]
  },
  {
   "cell_type": "code",
   "execution_count": 264,
   "id": "79128e6e",
   "metadata": {},
   "outputs": [
    {
     "data": {
      "text/plain": [
       "52"
      ]
     },
     "execution_count": 264,
     "metadata": {},
     "output_type": "execute_result"
    }
   ],
   "source": [
    "a[-1,-1]\n",
    "# a[-1,-1] is equivalent to a[-1][-1]\n"
   ]
  },
  {
   "cell_type": "code",
   "execution_count": 265,
   "id": "a0d35e0a",
   "metadata": {},
   "outputs": [
    {
     "data": {
      "text/plain": [
       "52"
      ]
     },
     "execution_count": 265,
     "metadata": {},
     "output_type": "execute_result"
    }
   ],
   "source": [
    "a[-1][-1]"
   ]
  },
  {
   "cell_type": "code",
   "execution_count": 259,
   "id": "2592aaf8",
   "metadata": {},
   "outputs": [
    {
     "data": {
      "text/plain": [
       "array([[26, 34, 42, 52],\n",
       "       [24, 32, 40, 48],\n",
       "       [22, 30, 38, 46]])"
      ]
     },
     "execution_count": 259,
     "metadata": {},
     "output_type": "execute_result"
    }
   ],
   "source": [
    "a[[-1,2,-3]]"
   ]
  },
  {
   "cell_type": "code",
   "execution_count": 260,
   "id": "9422e90c",
   "metadata": {},
   "outputs": [
    {
     "data": {
      "text/plain": [
       "array([42, 46])"
      ]
     },
     "execution_count": 260,
     "metadata": {},
     "output_type": "execute_result"
    }
   ],
   "source": [
    "a[[-1,1],[2,-1]]"
   ]
  },
  {
   "cell_type": "code",
   "execution_count": 263,
   "id": "fb53e9aa",
   "metadata": {},
   "outputs": [
    {
     "data": {
      "text/plain": [
       "array([30, 40])"
      ]
     },
     "execution_count": 263,
     "metadata": {},
     "output_type": "execute_result"
    }
   ],
   "source": [
    "a[[1,2],[1,2]]"
   ]
  },
  {
   "cell_type": "code",
   "execution_count": 268,
   "id": "abcb27cd",
   "metadata": {},
   "outputs": [
    {
     "data": {
      "text/plain": [
       "array([[20, 28, 36, 44],\n",
       "       [22, 30, 38, 46],\n",
       "       [24, 32, 40, 48],\n",
       "       [26, 34, 42, 52]])"
      ]
     },
     "execution_count": 268,
     "metadata": {},
     "output_type": "execute_result"
    }
   ],
   "source": [
    "a"
   ]
  },
  {
   "cell_type": "code",
   "execution_count": 269,
   "id": "b8bd562b",
   "metadata": {},
   "outputs": [
    {
     "data": {
      "text/plain": [
       "array([[20, 28, 36, 44],\n",
       "       [22, 30, 38, 46],\n",
       "       [24, 32, 40, 48]])"
      ]
     },
     "execution_count": 269,
     "metadata": {},
     "output_type": "execute_result"
    }
   ],
   "source": [
    "a[:3]"
   ]
  },
  {
   "cell_type": "code",
   "execution_count": 270,
   "id": "a7f937d6",
   "metadata": {},
   "outputs": [
    {
     "data": {
      "text/plain": [
       "array([[20, 28, 36, 44],\n",
       "       [24, 32, 40, 48]])"
      ]
     },
     "execution_count": 270,
     "metadata": {},
     "output_type": "execute_result"
    }
   ],
   "source": [
    "a[::2]"
   ]
  },
  {
   "cell_type": "code",
   "execution_count": 271,
   "id": "15c6d9f4",
   "metadata": {},
   "outputs": [
    {
     "data": {
      "text/plain": [
       "array([[22, 30, 38, 46],\n",
       "       [24, 32, 40, 48]])"
      ]
     },
     "execution_count": 271,
     "metadata": {},
     "output_type": "execute_result"
    }
   ],
   "source": [
    "a[-3:-1]"
   ]
  },
  {
   "cell_type": "code",
   "execution_count": 272,
   "id": "f0ad637e",
   "metadata": {},
   "outputs": [
    {
     "data": {
      "text/plain": [
       "array([22, 30, 38, 46])"
      ]
     },
     "execution_count": 272,
     "metadata": {},
     "output_type": "execute_result"
    }
   ],
   "source": [
    "a[-3]"
   ]
  },
  {
   "cell_type": "code",
   "execution_count": 273,
   "id": "f1758c96",
   "metadata": {},
   "outputs": [
    {
     "data": {
      "text/plain": [
       "array([[22, 30, 38, 46],\n",
       "       [24, 32, 40, 48],\n",
       "       [26, 34, 42, 52]])"
      ]
     },
     "execution_count": 273,
     "metadata": {},
     "output_type": "execute_result"
    }
   ],
   "source": [
    "a[-3:]"
   ]
  },
  {
   "cell_type": "code",
   "execution_count": 274,
   "id": "0fe52f48",
   "metadata": {},
   "outputs": [
    {
     "data": {
      "text/plain": [
       "array([[20, 28, 36, 44],\n",
       "       [22, 30, 38, 46]])"
      ]
     },
     "execution_count": 274,
     "metadata": {},
     "output_type": "execute_result"
    }
   ],
   "source": [
    "a[:2,]"
   ]
  },
  {
   "cell_type": "code",
   "execution_count": 275,
   "id": "19979f90",
   "metadata": {},
   "outputs": [
    {
     "data": {
      "text/plain": [
       "array([[36, 44],\n",
       "       [38, 46]])"
      ]
     },
     "execution_count": 275,
     "metadata": {},
     "output_type": "execute_result"
    }
   ],
   "source": [
    "a[:2,2:]"
   ]
  },
  {
   "cell_type": "code",
   "execution_count": 276,
   "id": "5f6ae9d0",
   "metadata": {},
   "outputs": [
    {
     "data": {
      "text/plain": [
       "array([[20, 28, 36, 44],\n",
       "       [24, 32, 40, 48]])"
      ]
     },
     "execution_count": 276,
     "metadata": {},
     "output_type": "execute_result"
    }
   ],
   "source": [
    "a[::2,:]"
   ]
  },
  {
   "cell_type": "code",
   "execution_count": 277,
   "id": "cf6210f8",
   "metadata": {},
   "outputs": [
    {
     "data": {
      "text/plain": [
       "array([[20, 28, 36, 44],\n",
       "       [22, 30, 38, 46],\n",
       "       [24, 32, 40, 48],\n",
       "       [26, 34, 42, 52]])"
      ]
     },
     "execution_count": 277,
     "metadata": {},
     "output_type": "execute_result"
    }
   ],
   "source": [
    "a"
   ]
  },
  {
   "cell_type": "code",
   "execution_count": 279,
   "id": "b31fb5f0",
   "metadata": {},
   "outputs": [
    {
     "data": {
      "text/plain": [
       "array([[32, 40],\n",
       "       [34, 42]])"
      ]
     },
     "execution_count": 279,
     "metadata": {},
     "output_type": "execute_result"
    }
   ],
   "source": [
    "a[2:,1:3]"
   ]
  },
  {
   "cell_type": "code",
   "execution_count": 282,
   "id": "5f88c3cc",
   "metadata": {},
   "outputs": [
    {
     "data": {
      "text/plain": [
       "array([[20, 28, 36, 44],\n",
       "       [22, 30, 38, 46],\n",
       "       [24, 32, 40, 48],\n",
       "       [26, 34, 42, 52]])"
      ]
     },
     "execution_count": 282,
     "metadata": {},
     "output_type": "execute_result"
    }
   ],
   "source": [
    "a"
   ]
  },
  {
   "cell_type": "code",
   "execution_count": 285,
   "id": "566fa0c3",
   "metadata": {},
   "outputs": [
    {
     "name": "stdout",
     "output_type": "stream",
     "text": [
      "[20 28 36 44]\n",
      "[22 30 38 46]\n",
      "[24 32 40 48]\n",
      "[26 34 42 52]\n"
     ]
    }
   ],
   "source": [
    "for i in a:\n",
    "    print(i)"
   ]
  },
  {
   "cell_type": "code",
   "execution_count": 287,
   "id": "86ba4180",
   "metadata": {},
   "outputs": [
    {
     "name": "stdout",
     "output_type": "stream",
     "text": [
      "20\n",
      "28\n",
      "36\n",
      "44\n",
      "22\n",
      "30\n",
      "38\n",
      "46\n",
      "24\n",
      "32\n",
      "40\n",
      "48\n",
      "26\n",
      "34\n",
      "42\n",
      "52\n"
     ]
    }
   ],
   "source": [
    "for i in a.flat:\n",
    "    print(i)"
   ]
  },
  {
   "cell_type": "code",
   "execution_count": 292,
   "id": "4cdbdea0",
   "metadata": {},
   "outputs": [
    {
     "data": {
      "text/plain": [
       "array([[[1, 2],\n",
       "        [3, 4]],\n",
       "\n",
       "       [[5, 6],\n",
       "        [7, 8]]])"
      ]
     },
     "execution_count": 292,
     "metadata": {},
     "output_type": "execute_result"
    }
   ],
   "source": [
    "my3d"
   ]
  },
  {
   "cell_type": "code",
   "execution_count": 293,
   "id": "a0990109",
   "metadata": {},
   "outputs": [
    {
     "data": {
      "text/plain": [
       "array([[5, 6],\n",
       "       [7, 8]])"
      ]
     },
     "execution_count": 293,
     "metadata": {},
     "output_type": "execute_result"
    }
   ],
   "source": [
    "my3d[1]"
   ]
  },
  {
   "cell_type": "code",
   "execution_count": 294,
   "id": "a9a394aa",
   "metadata": {},
   "outputs": [
    {
     "data": {
      "text/plain": [
       "array([[1, 2],\n",
       "       [3, 4]])"
      ]
     },
     "execution_count": 294,
     "metadata": {},
     "output_type": "execute_result"
    }
   ],
   "source": [
    "my3d[0]\n"
   ]
  },
  {
   "cell_type": "code",
   "execution_count": 295,
   "id": "be0df328",
   "metadata": {},
   "outputs": [
    {
     "data": {
      "text/plain": [
       "1"
      ]
     },
     "execution_count": 295,
     "metadata": {},
     "output_type": "execute_result"
    }
   ],
   "source": [
    "my3d[0][0,0]\n",
    "# [0][0,0] nd [0],[0],[0] both are same"
   ]
  },
  {
   "cell_type": "code",
   "execution_count": 296,
   "id": "699cc511",
   "metadata": {},
   "outputs": [
    {
     "data": {
      "text/plain": [
       "1"
      ]
     },
     "execution_count": 296,
     "metadata": {},
     "output_type": "execute_result"
    }
   ],
   "source": [
    "my3d[0][0][0]"
   ]
  },
  {
   "cell_type": "code",
   "execution_count": 300,
   "id": "cc22d33c",
   "metadata": {},
   "outputs": [
    {
     "data": {
      "text/plain": [
       "array([[6],\n",
       "       [8]])"
      ]
     },
     "execution_count": 300,
     "metadata": {},
     "output_type": "execute_result"
    }
   ],
   "source": [
    "my3d[1][:,1:]"
   ]
  },
  {
   "cell_type": "code",
   "execution_count": 303,
   "id": "fdc05385",
   "metadata": {},
   "outputs": [
    {
     "data": {
      "text/plain": [
       "array([44, 46, 48, 52])"
      ]
     },
     "execution_count": 303,
     "metadata": {},
     "output_type": "execute_result"
    }
   ],
   "source": [
    "np.max(a,axis=1)"
   ]
  },
  {
   "cell_type": "code",
   "execution_count": 304,
   "id": "c6cbe2cd",
   "metadata": {},
   "outputs": [
    {
     "data": {
      "text/plain": [
       "array([44, 46, 48, 52])"
      ]
     },
     "execution_count": 304,
     "metadata": {},
     "output_type": "execute_result"
    }
   ],
   "source": [
    "np.apply_along_axis(np.max,axis=1,arr=a)"
   ]
  },
  {
   "cell_type": "code",
   "execution_count": 307,
   "id": "8082c742",
   "metadata": {},
   "outputs": [
    {
     "data": {
      "text/plain": [
       "array([[3, 4],\n",
       "       [7, 8]])"
      ]
     },
     "execution_count": 307,
     "metadata": {},
     "output_type": "execute_result"
    }
   ],
   "source": [
    "np.apply_along_axis(np.max,axis=1,arr=my3d)"
   ]
  },
  {
   "cell_type": "code",
   "execution_count": 306,
   "id": "df9de1d3",
   "metadata": {},
   "outputs": [
    {
     "data": {
      "text/plain": [
       "array([[[1, 2],\n",
       "        [3, 4]],\n",
       "\n",
       "       [[5, 6],\n",
       "        [7, 8]]])"
      ]
     },
     "execution_count": 306,
     "metadata": {},
     "output_type": "execute_result"
    }
   ],
   "source": [
    "my3d"
   ]
  },
  {
   "cell_type": "code",
   "execution_count": 308,
   "id": "74a351ed",
   "metadata": {},
   "outputs": [
    {
     "data": {
      "text/plain": [
       "8"
      ]
     },
     "execution_count": 308,
     "metadata": {},
     "output_type": "execute_result"
    }
   ],
   "source": [
    "np.max(my3d)"
   ]
  },
  {
   "cell_type": "code",
   "execution_count": 309,
   "id": "a0d22d79",
   "metadata": {},
   "outputs": [
    {
     "data": {
      "text/plain": [
       "array([[5, 6],\n",
       "       [7, 8]])"
      ]
     },
     "execution_count": 309,
     "metadata": {},
     "output_type": "execute_result"
    }
   ],
   "source": [
    "np.apply_along_axis(np.max,axis=0,arr=my3d)"
   ]
  },
  {
   "cell_type": "code",
   "execution_count": 310,
   "id": "e42798da",
   "metadata": {},
   "outputs": [
    {
     "data": {
      "text/plain": [
       "array([[2, 4],\n",
       "       [6, 8]])"
      ]
     },
     "execution_count": 310,
     "metadata": {},
     "output_type": "execute_result"
    }
   ],
   "source": [
    "np.apply_along_axis(np.max,axis=2,arr=my3d)"
   ]
  },
  {
   "cell_type": "code",
   "execution_count": 311,
   "id": "62b6c8c5",
   "metadata": {},
   "outputs": [
    {
     "data": {
      "text/plain": [
       "4.5"
      ]
     },
     "execution_count": 311,
     "metadata": {},
     "output_type": "execute_result"
    }
   ],
   "source": [
    "np.mean(my3d)"
   ]
  },
  {
   "cell_type": "code",
   "execution_count": 312,
   "id": "3473c3db",
   "metadata": {},
   "outputs": [
    {
     "data": {
      "text/plain": [
       "array([[2., 3.],\n",
       "       [6., 7.]])"
      ]
     },
     "execution_count": 312,
     "metadata": {},
     "output_type": "execute_result"
    }
   ],
   "source": [
    "np.mean(my3d,axis=1)"
   ]
  },
  {
   "cell_type": "code",
   "execution_count": 313,
   "id": "7af3cd3a",
   "metadata": {},
   "outputs": [
    {
     "data": {
      "text/plain": [
       "(2, 2, 2)"
      ]
     },
     "execution_count": 313,
     "metadata": {},
     "output_type": "execute_result"
    }
   ],
   "source": [
    "my3d.shape"
   ]
  },
  {
   "cell_type": "code",
   "execution_count": 314,
   "id": "2a9a8da7",
   "metadata": {},
   "outputs": [],
   "source": [
    "arr=[np.random.randn(3,4) for _ in range(10)]"
   ]
  },
  {
   "cell_type": "code",
   "execution_count": 315,
   "id": "caabb470",
   "metadata": {},
   "outputs": [
    {
     "data": {
      "text/plain": [
       "[array([[ 1.04840176,  1.22014154,  0.05258707, -0.78600665],\n",
       "        [ 0.36120248, -0.65314064,  0.17176327,  1.77574749],\n",
       "        [ 1.33683961, -1.07823891,  0.45805564,  0.65280934]]),\n",
       " array([[ 0.82429062, -0.61693891, -0.44776408, -0.59272799],\n",
       "        [-1.11982094,  0.40863729, -0.84191067,  0.50506578],\n",
       "        [-1.95038969,  0.38680411, -1.57143217, -0.11358419]]),\n",
       " array([[-0.45935942,  1.75761774, -1.03059438, -0.42452365],\n",
       "        [ 1.09437934,  0.66385141,  0.63719812,  2.09737888],\n",
       "        [-0.13325686, -1.72847664,  0.81537726, -1.16489748]]),\n",
       " array([[ 0.5912941 ,  0.56317681,  0.47126566, -0.10974426],\n",
       "        [ 0.1762116 , -1.39542089, -0.3036554 , -0.82183026],\n",
       "        [ 0.8764222 ,  0.84099932,  1.53139211,  1.2515102 ]]),\n",
       " array([[ 0.62209762,  0.66625961,  2.31741553,  1.92620863],\n",
       "        [-0.11805424, -1.17733996,  0.76647935,  1.3685942 ],\n",
       "        [ 1.37571577, -0.14380912,  2.72326958,  0.69582197]]),\n",
       " array([[-0.39817846, -0.02915549, -0.07050669,  1.3089551 ],\n",
       "        [ 0.19519304,  1.95575325, -0.43019296, -0.81759822],\n",
       "        [-0.46602434,  1.66951202,  0.18829526, -0.6653721 ]]),\n",
       " array([[-1.17423632,  0.80584509,  0.50208155, -0.40390494],\n",
       "        [ 0.63357214,  0.58282754,  0.30317666, -0.06215597],\n",
       "        [-0.7998635 ,  0.31342672, -0.43577927,  0.50712896]]),\n",
       " array([[-0.54761651,  0.25930393,  0.37307398, -0.05670883],\n",
       "        [ 0.97977628,  0.72885838,  0.1519418 ,  0.48306497],\n",
       "        [-0.63091143, -0.22410319, -0.23085305, -1.45775726]]),\n",
       " array([[-0.88222535, -0.59278822,  0.40415907,  0.44907669],\n",
       "        [-0.15717004, -0.64412526,  0.65761339, -0.32669378],\n",
       "        [ 0.9002062 ,  0.26666482, -0.55701047, -1.76610995]]),\n",
       " array([[-0.62739609,  0.85864399,  0.15558397,  0.54709917],\n",
       "        [-0.98463821,  0.16874656, -0.87886935, -0.91461426],\n",
       "        [-0.26486436,  0.79831772,  0.91105676, -0.32457656]])]"
      ]
     },
     "execution_count": 315,
     "metadata": {},
     "output_type": "execute_result"
    }
   ],
   "source": [
    "arr"
   ]
  },
  {
   "cell_type": "code",
   "execution_count": 348,
   "id": "8c05a0b2",
   "metadata": {},
   "outputs": [],
   "source": [
    "a=np.array([_ for _ in range(10) if _%2==0])"
   ]
  },
  {
   "cell_type": "code",
   "execution_count": 349,
   "id": "95213dac",
   "metadata": {},
   "outputs": [
    {
     "data": {
      "text/plain": [
       "array([0, 2, 4, 6, 8])"
      ]
     },
     "execution_count": 349,
     "metadata": {},
     "output_type": "execute_result"
    }
   ],
   "source": [
    "a"
   ]
  },
  {
   "cell_type": "code",
   "execution_count": 350,
   "id": "2d26dcf3",
   "metadata": {},
   "outputs": [],
   "source": [
    "b=np.array([_ for _ in range(13) if _%3==0])"
   ]
  },
  {
   "cell_type": "code",
   "execution_count": 351,
   "id": "e0105e4f",
   "metadata": {},
   "outputs": [
    {
     "data": {
      "text/plain": [
       "array([ 0,  3,  6,  9, 12])"
      ]
     },
     "execution_count": 351,
     "metadata": {},
     "output_type": "execute_result"
    }
   ],
   "source": [
    "b"
   ]
  },
  {
   "cell_type": "code",
   "execution_count": 353,
   "id": "1163adfc",
   "metadata": {},
   "outputs": [
    {
     "data": {
      "text/plain": [
       "array([[ 0,  2,  4,  6,  8],\n",
       "       [ 0,  3,  6,  9, 12]])"
      ]
     },
     "execution_count": 353,
     "metadata": {},
     "output_type": "execute_result"
    }
   ],
   "source": [
    "np.stack((a,b))"
   ]
  },
  {
   "cell_type": "code",
   "execution_count": 355,
   "id": "dc9e71c3",
   "metadata": {},
   "outputs": [
    {
     "data": {
      "text/plain": [
       "array([[ 0,  0],\n",
       "       [ 2,  3],\n",
       "       [ 4,  6],\n",
       "       [ 6,  9],\n",
       "       [ 8, 12]])"
      ]
     },
     "execution_count": 355,
     "metadata": {},
     "output_type": "execute_result"
    }
   ],
   "source": [
    "np.stack((a,b),axis=1)"
   ]
  },
  {
   "cell_type": "code",
   "execution_count": 356,
   "id": "d676fa4d",
   "metadata": {},
   "outputs": [
    {
     "data": {
      "text/plain": [
       "array([[ 0,  2,  4,  6,  8],\n",
       "       [ 0,  3,  6,  9, 12]])"
      ]
     },
     "execution_count": 356,
     "metadata": {},
     "output_type": "execute_result"
    }
   ],
   "source": [
    "np.vstack((a,b))"
   ]
  },
  {
   "cell_type": "code",
   "execution_count": 357,
   "id": "ec97d792",
   "metadata": {},
   "outputs": [
    {
     "data": {
      "text/plain": [
       "array([ 0,  2,  4,  6,  8,  0,  3,  6,  9, 12])"
      ]
     },
     "execution_count": 357,
     "metadata": {},
     "output_type": "execute_result"
    }
   ],
   "source": [
    "np.hstack((a,b))"
   ]
  },
  {
   "cell_type": "code",
   "execution_count": 363,
   "id": "136da4ea",
   "metadata": {},
   "outputs": [],
   "source": [
    "a,b,c=np.linspace(1,5,10),np.linspace(5,10,10),np.linspace(10,15,10,endpoint=False,dtype=int)"
   ]
  },
  {
   "cell_type": "code",
   "execution_count": 364,
   "id": "88c182d3",
   "metadata": {},
   "outputs": [
    {
     "data": {
      "text/plain": [
       "array([1.        , 1.44444444, 1.88888889, 2.33333333, 2.77777778,\n",
       "       3.22222222, 3.66666667, 4.11111111, 4.55555556, 5.        ])"
      ]
     },
     "execution_count": 364,
     "metadata": {},
     "output_type": "execute_result"
    }
   ],
   "source": [
    "a"
   ]
  },
  {
   "cell_type": "code",
   "execution_count": 365,
   "id": "bffc9ceb",
   "metadata": {},
   "outputs": [
    {
     "data": {
      "text/plain": [
       "array([ 5.        ,  5.55555556,  6.11111111,  6.66666667,  7.22222222,\n",
       "        7.77777778,  8.33333333,  8.88888889,  9.44444444, 10.        ])"
      ]
     },
     "execution_count": 365,
     "metadata": {},
     "output_type": "execute_result"
    }
   ],
   "source": [
    "b"
   ]
  },
  {
   "cell_type": "code",
   "execution_count": 366,
   "id": "80d1a782",
   "metadata": {},
   "outputs": [
    {
     "data": {
      "text/plain": [
       "array([10, 10, 11, 11, 12, 12, 13, 13, 14, 14])"
      ]
     },
     "execution_count": 366,
     "metadata": {},
     "output_type": "execute_result"
    }
   ],
   "source": [
    "c"
   ]
  },
  {
   "cell_type": "code",
   "execution_count": 367,
   "id": "a6435248",
   "metadata": {},
   "outputs": [
    {
     "data": {
      "text/plain": [
       "array([[ 1.        ,  5.        ],\n",
       "       [ 1.44444444,  5.55555556],\n",
       "       [ 1.88888889,  6.11111111],\n",
       "       [ 2.33333333,  6.66666667],\n",
       "       [ 2.77777778,  7.22222222],\n",
       "       [ 3.22222222,  7.77777778],\n",
       "       [ 3.66666667,  8.33333333],\n",
       "       [ 4.11111111,  8.88888889],\n",
       "       [ 4.55555556,  9.44444444],\n",
       "       [ 5.        , 10.        ]])"
      ]
     },
     "execution_count": 367,
     "metadata": {},
     "output_type": "execute_result"
    }
   ],
   "source": [
    "np.column_stack((a,b))"
   ]
  },
  {
   "cell_type": "code",
   "execution_count": 368,
   "id": "45c0b59e",
   "metadata": {},
   "outputs": [
    {
     "data": {
      "text/plain": [
       "array([[ 5.        , 10.        ],\n",
       "       [ 5.55555556, 10.        ],\n",
       "       [ 6.11111111, 11.        ],\n",
       "       [ 6.66666667, 11.        ],\n",
       "       [ 7.22222222, 12.        ],\n",
       "       [ 7.77777778, 12.        ],\n",
       "       [ 8.33333333, 13.        ],\n",
       "       [ 8.88888889, 13.        ],\n",
       "       [ 9.44444444, 14.        ],\n",
       "       [10.        , 14.        ]])"
      ]
     },
     "execution_count": 368,
     "metadata": {},
     "output_type": "execute_result"
    }
   ],
   "source": [
    "np.column_stack((b,c))"
   ]
  },
  {
   "cell_type": "code",
   "execution_count": 369,
   "id": "489ed1e9",
   "metadata": {},
   "outputs": [
    {
     "data": {
      "text/plain": [
       "10"
      ]
     },
     "execution_count": 369,
     "metadata": {},
     "output_type": "execute_result"
    }
   ],
   "source": [
    "np.count_nonzero(a)\n",
    "# count number of non-zero values in array"
   ]
  },
  {
   "cell_type": "code",
   "execution_count": 370,
   "id": "be8cdf73",
   "metadata": {},
   "outputs": [
    {
     "data": {
      "text/plain": [
       "array([[ 1.        ,  1.44444444,  1.88888889,  2.33333333,  2.77777778,\n",
       "         3.22222222,  3.66666667,  4.11111111,  4.55555556,  5.        ],\n",
       "       [ 5.        ,  5.55555556,  6.11111111,  6.66666667,  7.22222222,\n",
       "         7.77777778,  8.33333333,  8.88888889,  9.44444444, 10.        ],\n",
       "       [10.        , 10.        , 11.        , 11.        , 12.        ,\n",
       "        12.        , 13.        , 13.        , 14.        , 14.        ]])"
      ]
     },
     "execution_count": 370,
     "metadata": {},
     "output_type": "execute_result"
    }
   ],
   "source": [
    "np.row_stack((a,b,c))"
   ]
  },
  {
   "cell_type": "code",
   "execution_count": 371,
   "id": "4c8569f2",
   "metadata": {},
   "outputs": [
    {
     "data": {
      "text/plain": [
       "array([[ 5.        ,  5.55555556,  6.11111111,  6.66666667,  7.22222222,\n",
       "         7.77777778,  8.33333333,  8.88888889,  9.44444444, 10.        ],\n",
       "       [10.        , 10.        , 11.        , 11.        , 12.        ,\n",
       "        12.        , 13.        , 13.        , 14.        , 14.        ]])"
      ]
     },
     "execution_count": 371,
     "metadata": {},
     "output_type": "execute_result"
    }
   ],
   "source": [
    "np.row_stack((b,c))"
   ]
  },
  {
   "cell_type": "code",
   "execution_count": 372,
   "id": "7397df0e",
   "metadata": {},
   "outputs": [],
   "source": [
    "np.concatenate?\n"
   ]
  },
  {
   "cell_type": "code",
   "execution_count": 373,
   "id": "49e40b03",
   "metadata": {},
   "outputs": [
    {
     "data": {
      "text/plain": [
       "array([1.        , 1.44444444, 1.88888889, 2.33333333, 2.77777778,\n",
       "       3.22222222, 3.66666667, 4.11111111, 4.55555556, 5.        ])"
      ]
     },
     "execution_count": 373,
     "metadata": {},
     "output_type": "execute_result"
    }
   ],
   "source": [
    "a"
   ]
  },
  {
   "cell_type": "code",
   "execution_count": 374,
   "id": "1d6a65b2",
   "metadata": {},
   "outputs": [
    {
     "data": {
      "text/plain": [
       "array([ 5.        ,  5.55555556,  6.11111111,  6.66666667,  7.22222222,\n",
       "        7.77777778,  8.33333333,  8.88888889,  9.44444444, 10.        ])"
      ]
     },
     "execution_count": 374,
     "metadata": {},
     "output_type": "execute_result"
    }
   ],
   "source": [
    "b"
   ]
  },
  {
   "cell_type": "code",
   "execution_count": 375,
   "id": "e123ea25",
   "metadata": {},
   "outputs": [
    {
     "data": {
      "text/plain": [
       "array([10, 10, 11, 11, 12, 12, 13, 13, 14, 14])"
      ]
     },
     "execution_count": 375,
     "metadata": {},
     "output_type": "execute_result"
    }
   ],
   "source": [
    "c"
   ]
  },
  {
   "cell_type": "code",
   "execution_count": 377,
   "id": "c3f29fa5",
   "metadata": {},
   "outputs": [
    {
     "data": {
      "text/plain": [
       "array([ 1.        ,  1.44444444,  1.88888889,  2.33333333,  2.77777778,\n",
       "        3.22222222,  3.66666667,  4.11111111,  4.55555556,  5.        ,\n",
       "       10.        , 10.        , 11.        , 11.        , 12.        ,\n",
       "       12.        , 13.        , 13.        , 14.        , 14.        ])"
      ]
     },
     "execution_count": 377,
     "metadata": {},
     "output_type": "execute_result"
    }
   ],
   "source": [
    "np.concatenate((a,c),axis=0)"
   ]
  },
  {
   "cell_type": "code",
   "execution_count": 380,
   "id": "58ab54ef",
   "metadata": {},
   "outputs": [
    {
     "data": {
      "text/plain": [
       "array([ 5.        ,  5.55555556,  6.11111111,  6.66666667,  7.22222222,\n",
       "        7.77777778,  8.33333333,  8.88888889,  9.44444444, 10.        ,\n",
       "       10.        , 10.        , 11.        , 11.        , 12.        ,\n",
       "       12.        , 13.        , 13.        , 14.        , 14.        ])"
      ]
     },
     "execution_count": 380,
     "metadata": {},
     "output_type": "execute_result"
    }
   ],
   "source": [
    "np.concatenate((b,c))"
   ]
  },
  {
   "cell_type": "code",
   "execution_count": 381,
   "id": "581d3f54",
   "metadata": {},
   "outputs": [],
   "source": [
    "a=np.arange(25).reshape(5,5)"
   ]
  },
  {
   "cell_type": "code",
   "execution_count": 382,
   "id": "b0810736",
   "metadata": {},
   "outputs": [
    {
     "data": {
      "text/plain": [
       "array([[ 0,  1,  2,  3,  4],\n",
       "       [ 5,  6,  7,  8,  9],\n",
       "       [10, 11, 12, 13, 14],\n",
       "       [15, 16, 17, 18, 19],\n",
       "       [20, 21, 22, 23, 24]])"
      ]
     },
     "execution_count": 382,
     "metadata": {},
     "output_type": "execute_result"
    }
   ],
   "source": [
    "a"
   ]
  },
  {
   "cell_type": "code",
   "execution_count": 383,
   "id": "4461700b",
   "metadata": {},
   "outputs": [
    {
     "data": {
      "text/plain": [
       "<function ndarray.ravel>"
      ]
     },
     "execution_count": 383,
     "metadata": {},
     "output_type": "execute_result"
    }
   ],
   "source": [
    "a.ravel"
   ]
  },
  {
   "cell_type": "code",
   "execution_count": 385,
   "id": "7bf4d007",
   "metadata": {},
   "outputs": [
    {
     "data": {
      "text/plain": [
       "array([ 0,  1,  2,  3,  4,  5,  6,  7,  8,  9, 10, 11, 12, 13, 14, 15, 16,\n",
       "       17, 18, 19, 20, 21, 22, 23, 24])"
      ]
     },
     "execution_count": 385,
     "metadata": {},
     "output_type": "execute_result"
    }
   ],
   "source": [
    "np.ravel(a)\n",
    "# convt multi. arr to 1-D arr"
   ]
  },
  {
   "cell_type": "code",
   "execution_count": 386,
   "id": "47da7bcf",
   "metadata": {},
   "outputs": [
    {
     "data": {
      "text/plain": [
       "array([ 0,  5, 10, 15, 20,  1,  6, 11, 16, 21,  2,  7, 12, 17, 22,  3,  8,\n",
       "       13, 18, 23,  4,  9, 14, 19, 24])"
      ]
     },
     "execution_count": 386,
     "metadata": {},
     "output_type": "execute_result"
    }
   ],
   "source": [
    "np.ravel(a,order='F')"
   ]
  },
  {
   "cell_type": "code",
   "execution_count": 388,
   "id": "c769907e",
   "metadata": {},
   "outputs": [
    {
     "data": {
      "text/plain": [
       "array([ 0,  1,  2,  3,  4,  5,  6,  7,  8,  9, 10, 11, 12, 13, 14, 15, 16,\n",
       "       17, 18, 19, 20, 21, 22, 23, 24])"
      ]
     },
     "execution_count": 388,
     "metadata": {},
     "output_type": "execute_result"
    }
   ],
   "source": [
    "np.ravel(a,order='C')"
   ]
  },
  {
   "cell_type": "code",
   "execution_count": 389,
   "id": "5d5a96fd",
   "metadata": {},
   "outputs": [
    {
     "data": {
      "text/plain": [
       "array([ 0,  1,  2,  3,  4,  5,  6,  7,  8,  9, 10, 11, 12, 13, 14, 15, 16,\n",
       "       17, 18, 19, 20, 21, 22, 23, 24])"
      ]
     },
     "execution_count": 389,
     "metadata": {},
     "output_type": "execute_result"
    }
   ],
   "source": [
    "np.ravel(a,order='A')"
   ]
  },
  {
   "cell_type": "code",
   "execution_count": 390,
   "id": "fbf865d6",
   "metadata": {},
   "outputs": [
    {
     "data": {
      "text/plain": [
       "array([ 0,  1,  2,  3,  4,  5,  6,  7,  8,  9, 10, 11, 12, 13, 14, 15, 16,\n",
       "       17, 18, 19, 20, 21, 22, 23, 24])"
      ]
     },
     "execution_count": 390,
     "metadata": {},
     "output_type": "execute_result"
    }
   ],
   "source": [
    "np.ravel(a,order='K')"
   ]
  },
  {
   "cell_type": "code",
   "execution_count": 391,
   "id": "56f69ab7",
   "metadata": {},
   "outputs": [
    {
     "data": {
      "text/plain": [
       "array([[ 0,  1,  2,  3,  4],\n",
       "       [ 5,  6,  7,  8,  9],\n",
       "       [10, 11, 12, 13, 14],\n",
       "       [15, 16, 17, 18, 19],\n",
       "       [20, 21, 22, 23, 24]])"
      ]
     },
     "execution_count": 391,
     "metadata": {},
     "output_type": "execute_result"
    }
   ],
   "source": [
    "a"
   ]
  },
  {
   "cell_type": "code",
   "execution_count": 392,
   "id": "48a7c9b7",
   "metadata": {},
   "outputs": [
    {
     "data": {
      "text/plain": [
       "array([ 0,  1,  2,  3,  4,  5,  6,  7,  8,  9, 10, 11, 12, 13, 14, 15, 16,\n",
       "       17, 18, 19, 20, 21, 22, 23, 24])"
      ]
     },
     "execution_count": 392,
     "metadata": {},
     "output_type": "execute_result"
    }
   ],
   "source": [
    "a.reshape(-1)\n",
    "# np.ravel(a) is equivalent to a.reshape(-1)"
   ]
  },
  {
   "cell_type": "code",
   "execution_count": 393,
   "id": "fb973450",
   "metadata": {},
   "outputs": [
    {
     "data": {
      "text/plain": [
       "array([ 0,  1,  2,  3,  4,  5,  6,  7,  8,  9, 10, 11, 12, 13, 14, 15, 16,\n",
       "       17, 18, 19, 20, 21, 22, 23, 24])"
      ]
     },
     "execution_count": 393,
     "metadata": {},
     "output_type": "execute_result"
    }
   ],
   "source": [
    "a.flatten()"
   ]
  },
  {
   "cell_type": "code",
   "execution_count": 394,
   "id": "6d7e4eef",
   "metadata": {},
   "outputs": [
    {
     "data": {
      "text/plain": [
       "array([ 0,  1,  2,  3,  4,  5,  6,  7,  8,  9, 10, 11, 12, 13, 14, 15, 16,\n",
       "       17, 18, 19, 20, 21, 22, 23, 24])"
      ]
     },
     "execution_count": 394,
     "metadata": {},
     "output_type": "execute_result"
    }
   ],
   "source": [
    "a.flatten(order='C')"
   ]
  },
  {
   "cell_type": "code",
   "execution_count": 395,
   "id": "976523f6",
   "metadata": {},
   "outputs": [
    {
     "data": {
      "text/plain": [
       "array([ 0,  5, 10, 15, 20,  1,  6, 11, 16, 21,  2,  7, 12, 17, 22,  3,  8,\n",
       "       13, 18, 23,  4,  9, 14, 19, 24])"
      ]
     },
     "execution_count": 395,
     "metadata": {},
     "output_type": "execute_result"
    }
   ],
   "source": [
    "a.flatten(order='F')\n",
    "# flatten and revel both are same"
   ]
  },
  {
   "cell_type": "code",
   "execution_count": 396,
   "id": "17519f2c",
   "metadata": {},
   "outputs": [
    {
     "data": {
      "text/plain": [
       "array([[ 0,  1,  2,  3,  4],\n",
       "       [ 5,  6,  7,  8,  9],\n",
       "       [10, 11, 12, 13, 14],\n",
       "       [15, 16, 17, 18, 19],\n",
       "       [20, 21, 22, 23, 24]])"
      ]
     },
     "execution_count": 396,
     "metadata": {},
     "output_type": "execute_result"
    }
   ],
   "source": [
    "a"
   ]
  },
  {
   "cell_type": "code",
   "execution_count": 398,
   "id": "db15ad11",
   "metadata": {},
   "outputs": [
    {
     "data": {
      "text/plain": [
       "[array([[0, 1, 2, 3, 4]]),\n",
       " array([[ 5,  6,  7,  8,  9],\n",
       "        [10, 11, 12, 13, 14]]),\n",
       " array([[15, 16, 17, 18, 19],\n",
       "        [20, 21, 22, 23, 24]])]"
      ]
     },
     "execution_count": 398,
     "metadata": {},
     "output_type": "execute_result"
    }
   ],
   "source": [
    "np.split(a,[1,3])"
   ]
  },
  {
   "cell_type": "code",
   "execution_count": 399,
   "id": "67540868",
   "metadata": {},
   "outputs": [
    {
     "data": {
      "text/plain": [
       "[array([[0, 1, 2, 3, 4]]),\n",
       " array([[ 5,  6,  7,  8,  9],\n",
       "        [10, 11, 12, 13, 14]]),\n",
       " array([[15, 16, 17, 18, 19],\n",
       "        [20, 21, 22, 23, 24]])]"
      ]
     },
     "execution_count": 399,
     "metadata": {},
     "output_type": "execute_result"
    }
   ],
   "source": [
    "np.split(a,[1,3],axis=0)"
   ]
  },
  {
   "cell_type": "code",
   "execution_count": 400,
   "id": "1127618a",
   "metadata": {},
   "outputs": [
    {
     "data": {
      "text/plain": [
       "[array([[0, 1, 2, 3, 4],\n",
       "        [5, 6, 7, 8, 9]]),\n",
       " array([[10, 11, 12, 13, 14],\n",
       "        [15, 16, 17, 18, 19]]),\n",
       " array([[20, 21, 22, 23, 24]])]"
      ]
     },
     "execution_count": 400,
     "metadata": {},
     "output_type": "execute_result"
    }
   ],
   "source": [
    "np.split(a,[2,4],axis=0)\n",
    "# split by row-wise"
   ]
  },
  {
   "cell_type": "code",
   "execution_count": 401,
   "id": "eed1c2c6",
   "metadata": {},
   "outputs": [
    {
     "data": {
      "text/plain": [
       "[array([[ 0,  1],\n",
       "        [ 5,  6],\n",
       "        [10, 11],\n",
       "        [15, 16],\n",
       "        [20, 21]]),\n",
       " array([[ 2,  3],\n",
       "        [ 7,  8],\n",
       "        [12, 13],\n",
       "        [17, 18],\n",
       "        [22, 23]]),\n",
       " array([[ 4],\n",
       "        [ 9],\n",
       "        [14],\n",
       "        [19],\n",
       "        [24]])]"
      ]
     },
     "execution_count": 401,
     "metadata": {},
     "output_type": "execute_result"
    }
   ],
   "source": [
    "np.split(a,[2,4],axis=1)\n",
    "#split by column-wise"
   ]
  },
  {
   "cell_type": "code",
   "execution_count": 402,
   "id": "fb2749fb",
   "metadata": {},
   "outputs": [
    {
     "data": {
      "text/plain": [
       "array([[ 0,  1,  2,  3,  4],\n",
       "       [ 5,  6,  7,  8,  9],\n",
       "       [10, 11, 12, 13, 14],\n",
       "       [15, 16, 17, 18, 19],\n",
       "       [20, 21, 22, 23, 24]])"
      ]
     },
     "execution_count": 402,
     "metadata": {},
     "output_type": "execute_result"
    }
   ],
   "source": [
    "a"
   ]
  },
  {
   "cell_type": "code",
   "execution_count": 403,
   "id": "845d605a",
   "metadata": {},
   "outputs": [],
   "source": [
    "[x,y,z]=np.split(a,[2,4],axis=1)"
   ]
  },
  {
   "cell_type": "code",
   "execution_count": 404,
   "id": "fefb17e8",
   "metadata": {},
   "outputs": [
    {
     "data": {
      "text/plain": [
       "array([[ 0,  1],\n",
       "       [ 5,  6],\n",
       "       [10, 11],\n",
       "       [15, 16],\n",
       "       [20, 21]])"
      ]
     },
     "execution_count": 404,
     "metadata": {},
     "output_type": "execute_result"
    }
   ],
   "source": [
    "x"
   ]
  },
  {
   "cell_type": "code",
   "execution_count": 405,
   "id": "06813cb4",
   "metadata": {},
   "outputs": [
    {
     "data": {
      "text/plain": [
       "array([[ 2,  3],\n",
       "       [ 7,  8],\n",
       "       [12, 13],\n",
       "       [17, 18],\n",
       "       [22, 23]])"
      ]
     },
     "execution_count": 405,
     "metadata": {},
     "output_type": "execute_result"
    }
   ],
   "source": [
    "y"
   ]
  },
  {
   "cell_type": "code",
   "execution_count": 406,
   "id": "06deaafb",
   "metadata": {},
   "outputs": [
    {
     "data": {
      "text/plain": [
       "array([[ 4],\n",
       "       [ 9],\n",
       "       [14],\n",
       "       [19],\n",
       "       [24]])"
      ]
     },
     "execution_count": 406,
     "metadata": {},
     "output_type": "execute_result"
    }
   ],
   "source": [
    "z"
   ]
  },
  {
   "cell_type": "code",
   "execution_count": 407,
   "id": "9902f975",
   "metadata": {},
   "outputs": [
    {
     "data": {
      "text/plain": [
       "2"
      ]
     },
     "execution_count": 407,
     "metadata": {},
     "output_type": "execute_result"
    }
   ],
   "source": [
    "x.ndim"
   ]
  },
  {
   "cell_type": "code",
   "execution_count": 408,
   "id": "d6bc1288",
   "metadata": {},
   "outputs": [
    {
     "data": {
      "text/plain": [
       "numpy.ndarray"
      ]
     },
     "execution_count": 408,
     "metadata": {},
     "output_type": "execute_result"
    }
   ],
   "source": [
    "type(x)"
   ]
  },
  {
   "cell_type": "code",
   "execution_count": 411,
   "id": "c23cce12",
   "metadata": {},
   "outputs": [
    {
     "data": {
      "text/plain": [
       "[array([], shape=(2, 0, 2), dtype=int64),\n",
       " array([[[1, 2]],\n",
       " \n",
       "        [[5, 6]]]),\n",
       " array([[[3, 4]],\n",
       " \n",
       "        [[7, 8]]])]"
      ]
     },
     "execution_count": 411,
     "metadata": {},
     "output_type": "execute_result"
    }
   ],
   "source": [
    "np.split(my3d,[0,1],axis=1)\n",
    "# split 3d arr"
   ]
  },
  {
   "cell_type": "code",
   "execution_count": 410,
   "id": "4ccab776",
   "metadata": {},
   "outputs": [
    {
     "data": {
      "text/plain": [
       "array([[[1, 2],\n",
       "        [3, 4]],\n",
       "\n",
       "       [[5, 6],\n",
       "        [7, 8]]])"
      ]
     },
     "execution_count": 410,
     "metadata": {},
     "output_type": "execute_result"
    }
   ],
   "source": [
    "my3d"
   ]
  },
  {
   "cell_type": "code",
   "execution_count": 413,
   "id": "d740464f",
   "metadata": {},
   "outputs": [
    {
     "data": {
      "text/plain": [
       "[array([], shape=(0, 2, 2), dtype=int64),\n",
       " array([[[1, 2],\n",
       "         [3, 4]]]),\n",
       " array([[[5, 6],\n",
       "         [7, 8]]])]"
      ]
     },
     "execution_count": 413,
     "metadata": {},
     "output_type": "execute_result"
    }
   ],
   "source": [
    "np.split(my3d,[0,1])"
   ]
  },
  {
   "cell_type": "code",
   "execution_count": 415,
   "id": "4eec2d87",
   "metadata": {},
   "outputs": [
    {
     "data": {
      "text/plain": [
       "array([[ 0,  1,  2,  3,  4],\n",
       "       [ 5,  6,  7,  8,  9],\n",
       "       [10, 11, 12, 13, 14],\n",
       "       [15, 16, 17, 18, 19],\n",
       "       [20, 21, 22, 23, 24]])"
      ]
     },
     "execution_count": 415,
     "metadata": {},
     "output_type": "execute_result"
    }
   ],
   "source": [
    "a"
   ]
  },
  {
   "cell_type": "code",
   "execution_count": 416,
   "id": "a89143f4",
   "metadata": {},
   "outputs": [
    {
     "data": {
      "text/plain": [
       "[array([[ 0,  1,  2],\n",
       "        [ 5,  6,  7],\n",
       "        [10, 11, 12],\n",
       "        [15, 16, 17],\n",
       "        [20, 21, 22]]),\n",
       " array([[ 3,  4],\n",
       "        [ 8,  9],\n",
       "        [13, 14],\n",
       "        [18, 19],\n",
       "        [23, 24]])]"
      ]
     },
     "execution_count": 416,
     "metadata": {},
     "output_type": "execute_result"
    }
   ],
   "source": [
    "np.hsplit(a,[3])\n",
    "# split by column"
   ]
  },
  {
   "cell_type": "code",
   "execution_count": 418,
   "id": "49737fd4",
   "metadata": {},
   "outputs": [
    {
     "data": {
      "text/plain": [
       "[array([[0, 1, 2, 3, 4],\n",
       "        [5, 6, 7, 8, 9]]),\n",
       " array([[10, 11, 12, 13, 14],\n",
       "        [15, 16, 17, 18, 19]]),\n",
       " array([[20, 21, 22, 23, 24]])]"
      ]
     },
     "execution_count": 418,
     "metadata": {},
     "output_type": "execute_result"
    }
   ],
   "source": [
    "np.vsplit(a,[2,4])\n",
    "# split by row"
   ]
  },
  {
   "cell_type": "code",
   "execution_count": 419,
   "id": "d6f80f69",
   "metadata": {},
   "outputs": [
    {
     "data": {
      "text/plain": [
       "[array([], shape=(0, 2, 2), dtype=int64),\n",
       " array([[[1, 2],\n",
       "         [3, 4]],\n",
       " \n",
       "        [[5, 6],\n",
       "         [7, 8]]])]"
      ]
     },
     "execution_count": 419,
     "metadata": {},
     "output_type": "execute_result"
    }
   ],
   "source": [
    "np.vsplit(my3d,[0])"
   ]
  },
  {
   "cell_type": "code",
   "execution_count": 420,
   "id": "818a4aec",
   "metadata": {},
   "outputs": [
    {
     "data": {
      "text/plain": [
       "[array([[[1, 2],\n",
       "         [3, 4]]]),\n",
       " array([[[5, 6],\n",
       "         [7, 8]]])]"
      ]
     },
     "execution_count": 420,
     "metadata": {},
     "output_type": "execute_result"
    }
   ],
   "source": [
    "np.vsplit(my3d,[1])"
   ]
  },
  {
   "cell_type": "code",
   "execution_count": 422,
   "id": "5e6d08c3",
   "metadata": {},
   "outputs": [],
   "source": [
    "np.savez('compressed_arr',a=a,b=my3d)"
   ]
  },
  {
   "cell_type": "code",
   "execution_count": 423,
   "id": "42d155df",
   "metadata": {},
   "outputs": [
    {
     "name": "stdout",
     "output_type": "stream",
     "text": [
      "compressed_arr.npz  numpy_arr.npy  numpy_practice_1.ipynb\r\n"
     ]
    }
   ],
   "source": [
    "!ls"
   ]
  },
  {
   "cell_type": "code",
   "execution_count": 424,
   "id": "c646bdc2",
   "metadata": {},
   "outputs": [],
   "source": [
    "load=np.load('compressed_arr.npz')"
   ]
  },
  {
   "cell_type": "code",
   "execution_count": 425,
   "id": "22a49210",
   "metadata": {},
   "outputs": [
    {
     "data": {
      "text/plain": [
       "<numpy.lib.npyio.NpzFile at 0x7f81905f37c0>"
      ]
     },
     "execution_count": 425,
     "metadata": {},
     "output_type": "execute_result"
    }
   ],
   "source": [
    "load"
   ]
  },
  {
   "cell_type": "code",
   "execution_count": 429,
   "id": "cb0dc10a",
   "metadata": {},
   "outputs": [
    {
     "data": {
      "text/plain": [
       "array([[ 0,  1,  2,  3,  4],\n",
       "       [ 5,  6,  7,  8,  9],\n",
       "       [10, 11, 12, 13, 14],\n",
       "       [15, 16, 17, 18, 19],\n",
       "       [20, 21, 22, 23, 24]])"
      ]
     },
     "execution_count": 429,
     "metadata": {},
     "output_type": "execute_result"
    }
   ],
   "source": [
    "load['a']"
   ]
  },
  {
   "cell_type": "code",
   "execution_count": 430,
   "id": "5f402c14",
   "metadata": {},
   "outputs": [
    {
     "data": {
      "text/plain": [
       "array([[[1, 2],\n",
       "        [3, 4]],\n",
       "\n",
       "       [[5, 6],\n",
       "        [7, 8]]])"
      ]
     },
     "execution_count": 430,
     "metadata": {},
     "output_type": "execute_result"
    }
   ],
   "source": [
    "load['b']"
   ]
  },
  {
   "cell_type": "code",
   "execution_count": 434,
   "id": "ce867e9c",
   "metadata": {},
   "outputs": [],
   "source": [
    "np.savetxt('test_file.out',a,delimiter=',')"
   ]
  },
  {
   "cell_type": "code",
   "execution_count": 441,
   "id": "60b04c15",
   "metadata": {},
   "outputs": [
    {
     "data": {
      "text/plain": [
       "array([[ 0,  1,  2,  3,  4],\n",
       "       [ 5,  6,  7,  8,  9],\n",
       "       [10, 11, 12, 13, 14],\n",
       "       [15, 16, 17, 18, 19],\n",
       "       [20, 21, 22, 23, 24]], dtype=int32)"
      ]
     },
     "execution_count": 441,
     "metadata": {},
     "output_type": "execute_result"
    }
   ],
   "source": [
    "np.loadtxt('test_file.out',delimiter=',',dtype=np.int32)"
   ]
  },
  {
   "cell_type": "code",
   "execution_count": 442,
   "id": "5bb59c02",
   "metadata": {},
   "outputs": [
    {
     "data": {
      "text/plain": [
       "array([[ 0,  1,  2,  3,  4],\n",
       "       [ 5,  6,  7,  8,  9],\n",
       "       [10, 11, 12, 13, 14],\n",
       "       [15, 16, 17, 18, 19],\n",
       "       [20, 21, 22, 23, 24]])"
      ]
     },
     "execution_count": 442,
     "metadata": {},
     "output_type": "execute_result"
    }
   ],
   "source": [
    "a"
   ]
  },
  {
   "cell_type": "code",
   "execution_count": 443,
   "id": "fa97e9ad",
   "metadata": {},
   "outputs": [],
   "source": [
    "copied_a=a.copy()\n",
    "# correct way to copy ndarray"
   ]
  },
  {
   "cell_type": "code",
   "execution_count": 444,
   "id": "0d725211",
   "metadata": {},
   "outputs": [
    {
     "data": {
      "text/plain": [
       "array([[ 0,  1,  2,  3,  4],\n",
       "       [ 5,  6,  7,  8,  9],\n",
       "       [10, 11, 12, 13, 14],\n",
       "       [15, 16, 17, 18, 19],\n",
       "       [20, 21, 22, 23, 24]])"
      ]
     },
     "execution_count": 444,
     "metadata": {},
     "output_type": "execute_result"
    }
   ],
   "source": [
    "copied_a"
   ]
  },
  {
   "cell_type": "code",
   "execution_count": 446,
   "id": "df45970e",
   "metadata": {},
   "outputs": [],
   "source": [
    "copied_a2=a.copy(order='F')"
   ]
  },
  {
   "cell_type": "code",
   "execution_count": 447,
   "id": "44d352cb",
   "metadata": {},
   "outputs": [
    {
     "data": {
      "text/plain": [
       "array([[ 0,  1,  2,  3,  4],\n",
       "       [ 5,  6,  7,  8,  9],\n",
       "       [10, 11, 12, 13, 14],\n",
       "       [15, 16, 17, 18, 19],\n",
       "       [20, 21, 22, 23, 24]])"
      ]
     },
     "execution_count": 447,
     "metadata": {},
     "output_type": "execute_result"
    }
   ],
   "source": [
    "copied_a2"
   ]
  },
  {
   "cell_type": "code",
   "execution_count": 448,
   "id": "1a89cd3f",
   "metadata": {},
   "outputs": [
    {
     "data": {
      "text/plain": [
       "array([[ 0,  1,  2,  3,  4],\n",
       "       [ 5,  6,  7,  8,  9],\n",
       "       [10, 11, 12, 13, 14],\n",
       "       [15, 16, 17, 18, 19],\n",
       "       [20, 21, 22, 23, 24]])"
      ]
     },
     "execution_count": 448,
     "metadata": {},
     "output_type": "execute_result"
    }
   ],
   "source": [
    "a"
   ]
  },
  {
   "cell_type": "code",
   "execution_count": 449,
   "id": "b2205c7a",
   "metadata": {},
   "outputs": [],
   "source": [
    "a.fill(0)"
   ]
  },
  {
   "cell_type": "code",
   "execution_count": 450,
   "id": "7743b076",
   "metadata": {},
   "outputs": [
    {
     "data": {
      "text/plain": [
       "array([[0, 0, 0, 0, 0],\n",
       "       [0, 0, 0, 0, 0],\n",
       "       [0, 0, 0, 0, 0],\n",
       "       [0, 0, 0, 0, 0],\n",
       "       [0, 0, 0, 0, 0]])"
      ]
     },
     "execution_count": 450,
     "metadata": {},
     "output_type": "execute_result"
    }
   ],
   "source": [
    "a"
   ]
  },
  {
   "cell_type": "code",
   "execution_count": 451,
   "id": "fcb4f90e",
   "metadata": {},
   "outputs": [
    {
     "data": {
      "text/plain": [
       "array([[ 0,  1,  2,  3,  4],\n",
       "       [ 5,  6,  7,  8,  9],\n",
       "       [10, 11, 12, 13, 14],\n",
       "       [15, 16, 17, 18, 19],\n",
       "       [20, 21, 22, 23, 24]])"
      ]
     },
     "execution_count": 451,
     "metadata": {},
     "output_type": "execute_result"
    }
   ],
   "source": [
    "copied_a\n",
    "# even data changed from original ndarr ,copied arr remain unchanged"
   ]
  },
  {
   "cell_type": "code",
   "execution_count": null,
   "id": "461cb43e",
   "metadata": {},
   "outputs": [],
   "source": []
  }
 ],
 "metadata": {
  "kernelspec": {
   "display_name": "Python 3 (ipykernel)",
   "language": "python",
   "name": "python3"
  },
  "language_info": {
   "codemirror_mode": {
    "name": "ipython",
    "version": 3
   },
   "file_extension": ".py",
   "mimetype": "text/x-python",
   "name": "python",
   "nbconvert_exporter": "python",
   "pygments_lexer": "ipython3",
   "version": "3.8.10"
  }
 },
 "nbformat": 4,
 "nbformat_minor": 5
}
