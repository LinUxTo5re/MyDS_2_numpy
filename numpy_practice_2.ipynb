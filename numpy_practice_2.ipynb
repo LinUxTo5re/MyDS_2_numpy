{
 "cells": [
  {
   "cell_type": "code",
   "execution_count": 1,
   "id": "79fbe30b",
   "metadata": {},
   "outputs": [],
   "source": [
    "import numpy as np "
   ]
  },
  {
   "cell_type": "code",
   "execution_count": 5,
   "id": "ab57c513",
   "metadata": {},
   "outputs": [],
   "source": [
    "# boradcasting-arth.op on diff-sized array\n",
    "a=np.ones([3,3],dtype=int)"
   ]
  },
  {
   "cell_type": "code",
   "execution_count": 6,
   "id": "2938a965",
   "metadata": {},
   "outputs": [
    {
     "data": {
      "text/plain": [
       "array([[1, 1, 1],\n",
       "       [1, 1, 1],\n",
       "       [1, 1, 1]])"
      ]
     },
     "execution_count": 6,
     "metadata": {},
     "output_type": "execute_result"
    }
   ],
   "source": [
    "a"
   ]
  },
  {
   "cell_type": "code",
   "execution_count": 8,
   "id": "892cb6e4",
   "metadata": {},
   "outputs": [
    {
     "data": {
      "text/plain": [
       "array([10, 15, 20])"
      ]
     },
     "execution_count": 8,
     "metadata": {},
     "output_type": "execute_result"
    }
   ],
   "source": [
    "b=np.linspace(10,20,3,dtype=int,axis=0)\n",
    "b\n"
   ]
  },
  {
   "cell_type": "code",
   "execution_count": 10,
   "id": "5c505052",
   "metadata": {},
   "outputs": [
    {
     "data": {
      "text/plain": [
       "array([[10, 15, 20],\n",
       "       [10, 15, 20],\n",
       "       [10, 15, 20]])"
      ]
     },
     "execution_count": 10,
     "metadata": {},
     "output_type": "execute_result"
    }
   ],
   "source": [
    "broadcast_1=a*b\n",
    "broadcast_1"
   ]
  },
  {
   "cell_type": "code",
   "execution_count": 11,
   "id": "63bfd07a",
   "metadata": {},
   "outputs": [
    {
     "ename": "SyntaxError",
     "evalue": "invalid syntax (1875680205.py, line 2)",
     "output_type": "error",
     "traceback": [
      "\u001b[0;36m  File \u001b[0;32m\"/tmp/ipykernel_4709/1875680205.py\"\u001b[0;36m, line \u001b[0;32m2\u001b[0m\n\u001b[0;31m    1 1 1     10 15 20\u001b[0m\n\u001b[0m      ^\u001b[0m\n\u001b[0;31mSyntaxError\u001b[0m\u001b[0;31m:\u001b[0m invalid syntax\n"
     ]
    }
   ],
   "source": [
    "/*\n",
    "1 1 1     10 15 20\n",
    "1 1 1   * 10 15 20 #this small arr brodcasted to greater arr\n",
    "1 1 1     10 15 20\n",
    "*/"
   ]
  },
  {
   "cell_type": "code",
   "execution_count": 18,
   "id": "076a423e",
   "metadata": {},
   "outputs": [
    {
     "data": {
      "text/plain": [
       "array([2, 3, 4])"
      ]
     },
     "execution_count": 18,
     "metadata": {},
     "output_type": "execute_result"
    }
   ],
   "source": [
    "b=np.linspace(2,6,3,dtype=int,endpoint=False,retstep=False,axis=0)\n",
    "b"
   ]
  },
  {
   "cell_type": "code",
   "execution_count": 19,
   "id": "ac6ae5bb",
   "metadata": {},
   "outputs": [
    {
     "data": {
      "text/plain": [
       "array([[-1, -2, -3],\n",
       "       [-1, -2, -3],\n",
       "       [-1, -2, -3]])"
      ]
     },
     "execution_count": 19,
     "metadata": {},
     "output_type": "execute_result"
    }
   ],
   "source": [
    "broadcast_2=a-b\n",
    "broadcast_2"
   ]
  },
  {
   "cell_type": "code",
   "execution_count": 20,
   "id": "c560c8da",
   "metadata": {},
   "outputs": [
    {
     "data": {
      "text/plain": [
       "3"
      ]
     },
     "execution_count": 20,
     "metadata": {},
     "output_type": "execute_result"
    }
   ],
   "source": [
    "a=np.array([[[5,3]]])\n",
    "a.ndim"
   ]
  },
  {
   "cell_type": "code",
   "execution_count": 24,
   "id": "84e93ab5",
   "metadata": {},
   "outputs": [],
   "source": [
    "b=np.random.randn(2)"
   ]
  },
  {
   "cell_type": "code",
   "execution_count": 25,
   "id": "273dc920",
   "metadata": {},
   "outputs": [
    {
     "data": {
      "text/plain": [
       "array([-0.6009718 ,  1.08059244])"
      ]
     },
     "execution_count": 25,
     "metadata": {},
     "output_type": "execute_result"
    }
   ],
   "source": [
    "b"
   ]
  },
  {
   "cell_type": "code",
   "execution_count": 26,
   "id": "c7d1eadf",
   "metadata": {},
   "outputs": [
    {
     "data": {
      "text/plain": [
       "array([[[4.3990282 , 4.08059244]]])"
      ]
     },
     "execution_count": 26,
     "metadata": {},
     "output_type": "execute_result"
    }
   ],
   "source": [
    "a+b"
   ]
  },
  {
   "cell_type": "code",
   "execution_count": 27,
   "id": "b0d8042f",
   "metadata": {},
   "outputs": [
    {
     "data": {
      "text/plain": [
       "1"
      ]
     },
     "execution_count": 27,
     "metadata": {},
     "output_type": "execute_result"
    }
   ],
   "source": [
    "b.ndim\n",
    "# brodcasted as 1x1x1 until shape get same "
   ]
  },
  {
   "cell_type": "code",
   "execution_count": null,
   "id": "27d4333c",
   "metadata": {},
   "outputs": [],
   "source": [
    "# structrued array"
   ]
  },
  {
   "cell_type": "code",
   "execution_count": 31,
   "id": "9c0197a0",
   "metadata": {},
   "outputs": [],
   "source": [
    "structred_arr=np.array([('gautam',23,45.3),('sayyam',19,42.23),('rakesh',23,56.3)],dtype={'names':('name','age','weight'),'formats':('a10','i4','f8')})"
   ]
  },
  {
   "cell_type": "code",
   "execution_count": 32,
   "id": "8b1a56d3",
   "metadata": {},
   "outputs": [
    {
     "data": {
      "text/plain": [
       "array([(b'gautam', 23, 45.3 ), (b'sayyam', 19, 42.23),\n",
       "       (b'rakesh', 23, 56.3 )],\n",
       "      dtype=[('name', 'S10'), ('age', '<i4'), ('weight', '<f8')])"
      ]
     },
     "execution_count": 32,
     "metadata": {},
     "output_type": "execute_result"
    }
   ],
   "source": [
    "structred_arr"
   ]
  },
  {
   "cell_type": "code",
   "execution_count": 33,
   "id": "4d427157",
   "metadata": {},
   "outputs": [
    {
     "data": {
      "text/plain": [
       "(b'gautam', 23, 45.3)"
      ]
     },
     "execution_count": 33,
     "metadata": {},
     "output_type": "execute_result"
    }
   ],
   "source": [
    "structred_arr[0]"
   ]
  },
  {
   "cell_type": "code",
   "execution_count": 34,
   "id": "275977db",
   "metadata": {},
   "outputs": [
    {
     "data": {
      "text/plain": [
       "array([b'gautam', b'sayyam', b'rakesh'], dtype='|S10')"
      ]
     },
     "execution_count": 34,
     "metadata": {},
     "output_type": "execute_result"
    }
   ],
   "source": [
    "structred_arr['name']"
   ]
  },
  {
   "cell_type": "code",
   "execution_count": 40,
   "id": "aaaa2cea",
   "metadata": {},
   "outputs": [
    {
     "data": {
      "text/plain": [
       "'void176'"
      ]
     },
     "execution_count": 40,
     "metadata": {},
     "output_type": "execute_result"
    }
   ],
   "source": [
    "structred_arr.dtype.name"
   ]
  },
  {
   "cell_type": "code",
   "execution_count": 41,
   "id": "aacd3999",
   "metadata": {},
   "outputs": [
    {
     "data": {
      "text/plain": [
       "('name', 'age', 'weight')"
      ]
     },
     "execution_count": 41,
     "metadata": {},
     "output_type": "execute_result"
    }
   ],
   "source": [
    "structred_arr.dtype.names"
   ]
  },
  {
   "cell_type": "code",
   "execution_count": null,
   "id": "cac36f62",
   "metadata": {},
   "outputs": [],
   "source": [
    "np.genfromtxt"
   ]
  },
  {
   "cell_type": "code",
   "execution_count": 42,
   "id": "120b239c",
   "metadata": {},
   "outputs": [],
   "source": [
    "from io import StringIO\n"
   ]
  },
  {
   "cell_type": "code",
   "execution_count": 50,
   "id": "c7ce15e0",
   "metadata": {},
   "outputs": [],
   "source": [
    "s=StringIO(\"1,1.3,abcde\")"
   ]
  },
  {
   "cell_type": "code",
   "execution_count": 51,
   "id": "f435ce6f",
   "metadata": {},
   "outputs": [
    {
     "data": {
      "text/plain": [
       "<_io.StringIO at 0x7f3f3bdb63a0>"
      ]
     },
     "execution_count": 51,
     "metadata": {},
     "output_type": "execute_result"
    }
   ],
   "source": [
    "s"
   ]
  },
  {
   "cell_type": "code",
   "execution_count": 45,
   "id": "ffa9fad9",
   "metadata": {},
   "outputs": [],
   "source": [
    "data=np.genfromtxt(s,dtype=[('myint','i8'),('myfloat','f4'),('mystrings','S5')],delimiter=',')"
   ]
  },
  {
   "cell_type": "code",
   "execution_count": 46,
   "id": "74652a7c",
   "metadata": {},
   "outputs": [
    {
     "data": {
      "text/plain": [
       "array((1, 1.3, b'abcde'),\n",
       "      dtype=[('myint', '<i8'), ('myfloat', '<f4'), ('mystrings', 'S5')])"
      ]
     },
     "execution_count": 46,
     "metadata": {},
     "output_type": "execute_result"
    }
   ],
   "source": [
    "data"
   ]
  },
  {
   "cell_type": "code",
   "execution_count": 53,
   "id": "230e628b",
   "metadata": {},
   "outputs": [],
   "source": [
    "_=s.seek(0)\n",
    "# moving ptr to zero position to read string"
   ]
  },
  {
   "cell_type": "code",
   "execution_count": 54,
   "id": "0fcfedaf",
   "metadata": {},
   "outputs": [],
   "source": [
    "data=np.genfromtxt(s,dtype='i2,f4,a5',names=['number','float_val','random_str'],delimiter=',')"
   ]
  },
  {
   "cell_type": "code",
   "execution_count": 55,
   "id": "cdf6e617",
   "metadata": {},
   "outputs": [
    {
     "data": {
      "text/plain": [
       "array((1, 1.3, b'abcde'),\n",
       "      dtype=[('number', '<i2'), ('float_val', '<f4'), ('random_str', 'S5')])"
      ]
     },
     "execution_count": 55,
     "metadata": {},
     "output_type": "execute_result"
    }
   ],
   "source": [
    "data"
   ]
  },
  {
   "cell_type": "code",
   "execution_count": 58,
   "id": "5f4c130b",
   "metadata": {},
   "outputs": [
    {
     "name": "stderr",
     "output_type": "stream",
     "text": [
      "/tmp/ipykernel_4709/314693160.py:2: VisibleDeprecationWarning: Reading unicode strings without specifying the encoding argument is deprecated. Set the encoding, use None for the system default.\n",
      "  data=np.genfromtxt(s,dtype=None,names=['intvar','fltvar','strvar'],delimiter=[3,3,4])\n"
     ]
    }
   ],
   "source": [
    "s=StringIO(u\"1123.3flog\")\n",
    "data=np.genfromtxt(s,dtype=None,names=['intvar','fltvar','strvar'],delimiter=[3,3,4])"
   ]
  },
  {
   "cell_type": "code",
   "execution_count": 59,
   "id": "740e81d3",
   "metadata": {},
   "outputs": [
    {
     "data": {
      "text/plain": [
       "array((112, 3.3, b'flog'),\n",
       "      dtype=[('intvar', '<i8'), ('fltvar', '<f8'), ('strvar', 'S4')])"
      ]
     },
     "execution_count": 59,
     "metadata": {},
     "output_type": "execute_result"
    }
   ],
   "source": [
    "data"
   ]
  },
  {
   "cell_type": "code",
   "execution_count": 60,
   "id": "bbf2905e",
   "metadata": {},
   "outputs": [],
   "source": [
    "!touch gent_sample"
   ]
  },
  {
   "cell_type": "code",
   "execution_count": 61,
   "id": "58626efe",
   "metadata": {},
   "outputs": [],
   "source": [
    "! echo \" text,# of chars hello world,11 numpy,5\" >gent_sample"
   ]
  },
  {
   "cell_type": "code",
   "execution_count": 62,
   "id": "28083746",
   "metadata": {},
   "outputs": [
    {
     "name": "stdout",
     "output_type": "stream",
     "text": [
      " text,# of chars hello world,11 numpy,5\r\n"
     ]
    }
   ],
   "source": [
    "!cat gent_sample"
   ]
  },
  {
   "cell_type": "code",
   "execution_count": 66,
   "id": "c17fee45",
   "metadata": {},
   "outputs": [],
   "source": [
    "data=np.genfromtxt('gent_sample',dtype='S12,S12',delimiter=',')"
   ]
  },
  {
   "cell_type": "code",
   "execution_count": 67,
   "id": "e2990139",
   "metadata": {},
   "outputs": [
    {
     "data": {
      "text/plain": [
       "array((b'text', b''), dtype=[('f0', 'S12'), ('f1', 'S12')])"
      ]
     },
     "execution_count": 67,
     "metadata": {},
     "output_type": "execute_result"
    }
   ],
   "source": [
    "data"
   ]
  },
  {
   "cell_type": "code",
   "execution_count": 95,
   "id": "a6674389",
   "metadata": {},
   "outputs": [],
   "source": [
    "abc=np.array([1,2,np.nan,np.nan,3,2])"
   ]
  },
  {
   "cell_type": "code",
   "execution_count": 96,
   "id": "21605af9",
   "metadata": {},
   "outputs": [
    {
     "data": {
      "text/plain": [
       "array([ 1.,  2., nan, nan,  3.,  2.])"
      ]
     },
     "execution_count": 96,
     "metadata": {},
     "output_type": "execute_result"
    }
   ],
   "source": [
    "abc"
   ]
  },
  {
   "cell_type": "code",
   "execution_count": 99,
   "id": "e7ead44e",
   "metadata": {},
   "outputs": [],
   "source": [
    "abc=np.where(abc==np.nan,abc.mean(),abc)"
   ]
  },
  {
   "cell_type": "code",
   "execution_count": 100,
   "id": "37bf7ad2",
   "metadata": {},
   "outputs": [
    {
     "data": {
      "text/plain": [
       "array([ 1.,  2., nan, nan,  3.,  2.])"
      ]
     },
     "execution_count": 100,
     "metadata": {},
     "output_type": "execute_result"
    }
   ],
   "source": [
    "abc"
   ]
  },
  {
   "cell_type": "code",
   "execution_count": 101,
   "id": "55c68846",
   "metadata": {},
   "outputs": [],
   "source": [
    "abc=np.linspace(5,25,4,endpoint=False)"
   ]
  },
  {
   "cell_type": "code",
   "execution_count": 102,
   "id": "34180c5e",
   "metadata": {},
   "outputs": [
    {
     "data": {
      "text/plain": [
       "array([ 5., 10., 15., 20.])"
      ]
     },
     "execution_count": 102,
     "metadata": {},
     "output_type": "execute_result"
    }
   ],
   "source": [
    "abc"
   ]
  },
  {
   "cell_type": "code",
   "execution_count": 103,
   "id": "30dc8772",
   "metadata": {},
   "outputs": [
    {
     "data": {
      "text/plain": [
       "array([ 5., 10., 15., 20.,  5., 10., 15., 20.])"
      ]
     },
     "execution_count": 103,
     "metadata": {},
     "output_type": "execute_result"
    }
   ],
   "source": [
    "np.tile(abc,2)"
   ]
  },
  {
   "cell_type": "code",
   "execution_count": 104,
   "id": "129f5814",
   "metadata": {},
   "outputs": [
    {
     "data": {
      "text/plain": [
       "array([ 5., 10., 15., 20.,  5., 10., 15., 20.,  5., 10., 15., 20.,  5.,\n",
       "       10., 15., 20.])"
      ]
     },
     "execution_count": 104,
     "metadata": {},
     "output_type": "execute_result"
    }
   ],
   "source": [
    "np.tile(abc,4)"
   ]
  },
  {
   "cell_type": "code",
   "execution_count": 105,
   "id": "6956b477",
   "metadata": {},
   "outputs": [
    {
     "data": {
      "text/plain": [
       "array([[ 5., 10., 15., 20.],\n",
       "       [ 5., 10., 15., 20.]])"
      ]
     },
     "execution_count": 105,
     "metadata": {},
     "output_type": "execute_result"
    }
   ],
   "source": [
    "np.tile(abc,(2,1))"
   ]
  },
  {
   "cell_type": "code",
   "execution_count": 106,
   "id": "2a9dcd38",
   "metadata": {},
   "outputs": [
    {
     "data": {
      "text/plain": [
       "array([[ 5., 10., 15., 20.,  5., 10., 15., 20.],\n",
       "       [ 5., 10., 15., 20.,  5., 10., 15., 20.],\n",
       "       [ 5., 10., 15., 20.,  5., 10., 15., 20.]])"
      ]
     },
     "execution_count": 106,
     "metadata": {},
     "output_type": "execute_result"
    }
   ],
   "source": [
    "np.tile(abc,(3,2))"
   ]
  },
  {
   "cell_type": "code",
   "execution_count": 107,
   "id": "b4f7c0e1",
   "metadata": {},
   "outputs": [
    {
     "data": {
      "text/plain": [
       "array([[[ 5., 10., 15., 20.,  5., 10., 15., 20.,  5., 10., 15., 20.,\n",
       "          5., 10., 15., 20.],\n",
       "        [ 5., 10., 15., 20.,  5., 10., 15., 20.,  5., 10., 15., 20.,\n",
       "          5., 10., 15., 20.],\n",
       "        [ 5., 10., 15., 20.,  5., 10., 15., 20.,  5., 10., 15., 20.,\n",
       "          5., 10., 15., 20.]],\n",
       "\n",
       "       [[ 5., 10., 15., 20.,  5., 10., 15., 20.,  5., 10., 15., 20.,\n",
       "          5., 10., 15., 20.],\n",
       "        [ 5., 10., 15., 20.,  5., 10., 15., 20.,  5., 10., 15., 20.,\n",
       "          5., 10., 15., 20.],\n",
       "        [ 5., 10., 15., 20.,  5., 10., 15., 20.,  5., 10., 15., 20.,\n",
       "          5., 10., 15., 20.]]])"
      ]
     },
     "execution_count": 107,
     "metadata": {},
     "output_type": "execute_result"
    }
   ],
   "source": [
    "np.tile(abc,(2,3,4))"
   ]
  },
  {
   "cell_type": "code",
   "execution_count": 108,
   "id": "6b021d2e",
   "metadata": {},
   "outputs": [
    {
     "data": {
      "text/plain": [
       "array([ 5., 10., 15., 20.])"
      ]
     },
     "execution_count": 108,
     "metadata": {},
     "output_type": "execute_result"
    }
   ],
   "source": [
    "np.unique(abc)\n",
    "# find unique elements from an array"
   ]
  },
  {
   "cell_type": "code",
   "execution_count": 109,
   "id": "b21815d0",
   "metadata": {},
   "outputs": [
    {
     "data": {
      "text/plain": [
       "array([[3, 5],\n",
       "       [6, 3]])"
      ]
     },
     "execution_count": 109,
     "metadata": {},
     "output_type": "execute_result"
    }
   ],
   "source": [
    "x=np.array([[3,5],[6,3]])\n",
    "x"
   ]
  },
  {
   "cell_type": "code",
   "execution_count": 110,
   "id": "955ff9c5",
   "metadata": {},
   "outputs": [
    {
     "data": {
      "text/plain": [
       "array([3, 3, 5, 5, 6, 6, 3, 3])"
      ]
     },
     "execution_count": 110,
     "metadata": {},
     "output_type": "execute_result"
    }
   ],
   "source": [
    "np.repeat(x,2)"
   ]
  },
  {
   "cell_type": "code",
   "execution_count": 111,
   "id": "b8225770",
   "metadata": {},
   "outputs": [
    {
     "data": {
      "text/plain": [
       "2"
      ]
     },
     "execution_count": 111,
     "metadata": {},
     "output_type": "execute_result"
    }
   ],
   "source": [
    "x.ndim"
   ]
  },
  {
   "cell_type": "code",
   "execution_count": 114,
   "id": "625c77b9",
   "metadata": {},
   "outputs": [
    {
     "data": {
      "text/plain": [
       "array([[3, 3, 5, 5, 5],\n",
       "       [6, 6, 3, 3, 3]])"
      ]
     },
     "execution_count": 114,
     "metadata": {},
     "output_type": "execute_result"
    }
   ],
   "source": [
    "np.repeat(x,(2,3),axis=1)\n",
    "# 2-1st 3-2nd"
   ]
  },
  {
   "cell_type": "code",
   "execution_count": 115,
   "id": "2bd2d6a9",
   "metadata": {},
   "outputs": [
    {
     "data": {
      "text/plain": [
       "array([[3, 5],\n",
       "       [3, 5],\n",
       "       [6, 3],\n",
       "       [6, 3],\n",
       "       [6, 3]])"
      ]
     },
     "execution_count": 115,
     "metadata": {},
     "output_type": "execute_result"
    }
   ],
   "source": [
    "np.repeat(x,(2,3),axis=0)"
   ]
  },
  {
   "cell_type": "code",
   "execution_count": 116,
   "id": "c4b049c6",
   "metadata": {},
   "outputs": [
    {
     "data": {
      "text/plain": [
       "array([[3, 5],\n",
       "       [6, 3]])"
      ]
     },
     "execution_count": 116,
     "metadata": {},
     "output_type": "execute_result"
    }
   ],
   "source": [
    "x"
   ]
  },
  {
   "cell_type": "code",
   "execution_count": 119,
   "id": "8c9b888e",
   "metadata": {},
   "outputs": [
    {
     "data": {
      "text/plain": [
       "array([[ 3,  5],\n",
       "       [ 6,  3],\n",
       "       [12, 11]])"
      ]
     },
     "execution_count": 119,
     "metadata": {},
     "output_type": "execute_result"
    }
   ],
   "source": [
    "np.append(x,[[12,11]],axis=0)"
   ]
  },
  {
   "cell_type": "code",
   "execution_count": 122,
   "id": "1028e20c",
   "metadata": {},
   "outputs": [
    {
     "data": {
      "text/plain": [
       "array([[ 3,  5],\n",
       "       [ 6,  3],\n",
       "       [12, 11]])"
      ]
     },
     "execution_count": 122,
     "metadata": {},
     "output_type": "execute_result"
    }
   ],
   "source": [
    "np.append(x,[[12,11]],axis=0)"
   ]
  },
  {
   "cell_type": "code",
   "execution_count": 123,
   "id": "96748da8",
   "metadata": {},
   "outputs": [
    {
     "data": {
      "text/plain": [
       "array([[3, 5],\n",
       "       [6, 3]])"
      ]
     },
     "execution_count": 123,
     "metadata": {},
     "output_type": "execute_result"
    }
   ],
   "source": [
    "x"
   ]
  },
  {
   "cell_type": "code",
   "execution_count": 131,
   "id": "baa4d3e2",
   "metadata": {},
   "outputs": [
    {
     "data": {
      "text/plain": [
       "array([[3, 5, 4, 5],\n",
       "       [6, 3, 6, 4]])"
      ]
     },
     "execution_count": 131,
     "metadata": {},
     "output_type": "execute_result"
    }
   ],
   "source": [
    "y=np.array([[4,5],[6,4]])\n",
    "np.append(x,y,axis=1)"
   ]
  },
  {
   "cell_type": "code",
   "execution_count": 132,
   "id": "2d521f69",
   "metadata": {},
   "outputs": [
    {
     "data": {
      "text/plain": [
       "(2, 2)"
      ]
     },
     "execution_count": 132,
     "metadata": {},
     "output_type": "execute_result"
    }
   ],
   "source": [
    "y.shape"
   ]
  },
  {
   "cell_type": "code",
   "execution_count": 133,
   "id": "0f8a3e17",
   "metadata": {},
   "outputs": [
    {
     "data": {
      "text/plain": [
       "(2, 2)"
      ]
     },
     "execution_count": 133,
     "metadata": {},
     "output_type": "execute_result"
    }
   ],
   "source": [
    "x.shape"
   ]
  },
  {
   "cell_type": "code",
   "execution_count": 134,
   "id": "557a9ebf",
   "metadata": {},
   "outputs": [
    {
     "data": {
      "text/plain": [
       "array([[3, 5],\n",
       "       [6, 3]])"
      ]
     },
     "execution_count": 134,
     "metadata": {},
     "output_type": "execute_result"
    }
   ],
   "source": [
    "x"
   ]
  },
  {
   "cell_type": "code",
   "execution_count": 136,
   "id": "a02df2df",
   "metadata": {},
   "outputs": [],
   "source": [
    "x=np.append(x,[[5,3],[5,2]],axis=0)"
   ]
  },
  {
   "cell_type": "code",
   "execution_count": 137,
   "id": "fa0ea4c2",
   "metadata": {},
   "outputs": [
    {
     "data": {
      "text/plain": [
       "array([[3, 5, 1],\n",
       "       [6, 3, 2],\n",
       "       [5, 3, 3],\n",
       "       [5, 2, 4]])"
      ]
     },
     "execution_count": 137,
     "metadata": {},
     "output_type": "execute_result"
    }
   ],
   "source": [
    "np.append(x,[[1],[2],[3],[4]],axis=1)"
   ]
  },
  {
   "cell_type": "code",
   "execution_count": 138,
   "id": "f6673d0c",
   "metadata": {},
   "outputs": [
    {
     "data": {
      "text/plain": [
       "array([[3, 5],\n",
       "       [6, 3],\n",
       "       [5, 3],\n",
       "       [5, 2]])"
      ]
     },
     "execution_count": 138,
     "metadata": {},
     "output_type": "execute_result"
    }
   ],
   "source": [
    "x"
   ]
  },
  {
   "cell_type": "code",
   "execution_count": 140,
   "id": "452a9b79",
   "metadata": {},
   "outputs": [
    {
     "data": {
      "text/plain": [
       "array([ 3, 11,  5,  6,  3,  5,  3,  5,  2])"
      ]
     },
     "execution_count": 140,
     "metadata": {},
     "output_type": "execute_result"
    }
   ],
   "source": [
    "np.insert(x,1,11)"
   ]
  },
  {
   "cell_type": "code",
   "execution_count": 141,
   "id": "533238f9",
   "metadata": {},
   "outputs": [
    {
     "data": {
      "text/plain": [
       "array([[  3,   5, 111],\n",
       "       [  6,   3, 111],\n",
       "       [  5,   3, 111],\n",
       "       [  5,   2, 111]])"
      ]
     },
     "execution_count": 141,
     "metadata": {},
     "output_type": "execute_result"
    }
   ],
   "source": [
    "np.insert(x,2,111,axis=1)"
   ]
  },
  {
   "cell_type": "code",
   "execution_count": 142,
   "id": "d49add68",
   "metadata": {},
   "outputs": [
    {
     "data": {
      "text/plain": [
       "array([[ 3, 23,  5],\n",
       "       [ 6, 23,  3],\n",
       "       [ 5, 23,  3],\n",
       "       [ 5, 23,  2]])"
      ]
     },
     "execution_count": 142,
     "metadata": {},
     "output_type": "execute_result"
    }
   ],
   "source": [
    "np.insert(x,1,23,axis=1)"
   ]
  },
  {
   "cell_type": "code",
   "execution_count": 143,
   "id": "d6fd5b56",
   "metadata": {},
   "outputs": [
    {
     "data": {
      "text/plain": [
       "array([[3, 5],\n",
       "       [6, 3],\n",
       "       [5, 3],\n",
       "       [5, 2]])"
      ]
     },
     "execution_count": 143,
     "metadata": {},
     "output_type": "execute_result"
    }
   ],
   "source": [
    "x"
   ]
  },
  {
   "cell_type": "code",
   "execution_count": 146,
   "id": "9f20f48f",
   "metadata": {},
   "outputs": [
    {
     "data": {
      "text/plain": [
       "array([[11, 22,  3,  5],\n",
       "       [11, 22,  6,  3],\n",
       "       [11, 22,  5,  3],\n",
       "       [11, 22,  5,  2]])"
      ]
     },
     "execution_count": 146,
     "metadata": {},
     "output_type": "execute_result"
    }
   ],
   "source": [
    "np.insert(x,0,[[11],[22]],axis=1)"
   ]
  },
  {
   "cell_type": "code",
   "execution_count": 147,
   "id": "4cc65dbc",
   "metadata": {},
   "outputs": [
    {
     "data": {
      "text/plain": [
       "array([[3, 5],\n",
       "       [6, 3],\n",
       "       [5, 3],\n",
       "       [5, 2]])"
      ]
     },
     "execution_count": 147,
     "metadata": {},
     "output_type": "execute_result"
    }
   ],
   "source": [
    "x\n"
   ]
  },
  {
   "cell_type": "code",
   "execution_count": 148,
   "id": "544885e9",
   "metadata": {},
   "outputs": [
    {
     "data": {
      "text/plain": [
       "array([[3, 5],\n",
       "       [5, 3],\n",
       "       [5, 2]])"
      ]
     },
     "execution_count": 148,
     "metadata": {},
     "output_type": "execute_result"
    }
   ],
   "source": [
    "np.delete(x,1,axis=0)"
   ]
  },
  {
   "cell_type": "code",
   "execution_count": 149,
   "id": "5e495690",
   "metadata": {},
   "outputs": [
    {
     "data": {
      "text/plain": [
       "array([[3],\n",
       "       [6],\n",
       "       [5],\n",
       "       [5]])"
      ]
     },
     "execution_count": 149,
     "metadata": {},
     "output_type": "execute_result"
    }
   ],
   "source": [
    "np.delete(x,1,axis=1)"
   ]
  },
  {
   "cell_type": "code",
   "execution_count": 150,
   "id": "01bdea83",
   "metadata": {},
   "outputs": [
    {
     "data": {
      "text/plain": [
       "array([[8, 8, 8],\n",
       "       [8, 8, 8]])"
      ]
     },
     "execution_count": 150,
     "metadata": {},
     "output_type": "execute_result"
    }
   ],
   "source": [
    "np.full((2,3),8)"
   ]
  },
  {
   "cell_type": "code",
   "execution_count": null,
   "id": "8ad205af",
   "metadata": {},
   "outputs": [],
   "source": []
  }
 ],
 "metadata": {
  "kernelspec": {
   "display_name": "Python 3 (ipykernel)",
   "language": "python",
   "name": "python3"
  },
  "language_info": {
   "codemirror_mode": {
    "name": "ipython",
    "version": 3
   },
   "file_extension": ".py",
   "mimetype": "text/x-python",
   "name": "python",
   "nbconvert_exporter": "python",
   "pygments_lexer": "ipython3",
   "version": "3.8.10"
  }
 },
 "nbformat": 4,
 "nbformat_minor": 5
}
