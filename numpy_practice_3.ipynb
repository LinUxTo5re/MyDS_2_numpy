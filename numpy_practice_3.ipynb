{
 "cells": [
  {
   "cell_type": "code",
   "execution_count": 1,
   "id": "26d37b44",
   "metadata": {},
   "outputs": [],
   "source": [
    "import numpy as np"
   ]
  },
  {
   "cell_type": "code",
   "execution_count": 2,
   "id": "2e512484",
   "metadata": {},
   "outputs": [],
   "source": [
    "x=np.array([[2,5,np.nan],[6,np.nan,np.nan]])"
   ]
  },
  {
   "cell_type": "code",
   "execution_count": 3,
   "id": "56f34250",
   "metadata": {},
   "outputs": [
    {
     "data": {
      "text/plain": [
       "array([[ 2.,  5., nan],\n",
       "       [ 6., nan, nan]])"
      ]
     },
     "execution_count": 3,
     "metadata": {},
     "output_type": "execute_result"
    }
   ],
   "source": [
    "x"
   ]
  },
  {
   "cell_type": "code",
   "execution_count": 4,
   "id": "8b841bdd",
   "metadata": {},
   "outputs": [
    {
     "data": {
      "text/plain": [
       "array([[2., 5., 0.],\n",
       "       [6., 0., 0.]])"
      ]
     },
     "execution_count": 4,
     "metadata": {},
     "output_type": "execute_result"
    }
   ],
   "source": [
    "np.nan_to_num(x)"
   ]
  },
  {
   "cell_type": "code",
   "execution_count": 5,
   "id": "eda778e8",
   "metadata": {},
   "outputs": [
    {
     "data": {
      "text/plain": [
       "array([[ 2.,  5., nan],\n",
       "       [ 6., nan, nan]])"
      ]
     },
     "execution_count": 5,
     "metadata": {},
     "output_type": "execute_result"
    }
   ],
   "source": [
    "x"
   ]
  },
  {
   "cell_type": "code",
   "execution_count": 7,
   "id": "645117c6",
   "metadata": {},
   "outputs": [
    {
     "data": {
      "text/plain": [
       "array([[  2.,   5., 111.],\n",
       "       [  6., 111., 111.]])"
      ]
     },
     "execution_count": 7,
     "metadata": {},
     "output_type": "execute_result"
    }
   ],
   "source": [
    "np.nan_to_num(x,nan=111)"
   ]
  },
  {
   "cell_type": "code",
   "execution_count": 15,
   "id": "ee794096",
   "metadata": {},
   "outputs": [
    {
     "data": {
      "text/plain": [
       "2.0"
      ]
     },
     "execution_count": 15,
     "metadata": {},
     "output_type": "execute_result"
    }
   ],
   "source": [
    "x[0][0]"
   ]
  },
  {
   "cell_type": "code",
   "execution_count": 16,
   "id": "5aa13a85",
   "metadata": {},
   "outputs": [
    {
     "data": {
      "text/plain": [
       "array([[2., 5., 2.],\n",
       "       [6., 2., 2.]])"
      ]
     },
     "execution_count": 16,
     "metadata": {},
     "output_type": "execute_result"
    }
   ],
   "source": [
    "np.nan_to_num(x,nan=x[0][0])"
   ]
  },
  {
   "cell_type": "code",
   "execution_count": 17,
   "id": "00d6b738",
   "metadata": {},
   "outputs": [
    {
     "data": {
      "text/plain": [
       "<function numpy.tile(A, reps)>"
      ]
     },
     "execution_count": 17,
     "metadata": {},
     "output_type": "execute_result"
    }
   ],
   "source": [
    "np.tile\n",
    "# repeat arr"
   ]
  },
  {
   "cell_type": "code",
   "execution_count": 18,
   "id": "b72a1f46",
   "metadata": {},
   "outputs": [
    {
     "data": {
      "text/plain": [
       "[[5, 3, 63], [54, 3, 54]]"
      ]
     },
     "execution_count": 18,
     "metadata": {},
     "output_type": "execute_result"
    }
   ],
   "source": [
    "myList=[[5,3,63],[54,3,54]]\n",
    "myList"
   ]
  },
  {
   "cell_type": "code",
   "execution_count": 22,
   "id": "5e595c48",
   "metadata": {},
   "outputs": [],
   "source": [
    "x=np.asarray(myList,dtype={'names':('listint1','listint2'),'formats':('i4','i4')})"
   ]
  },
  {
   "cell_type": "code",
   "execution_count": 23,
   "id": "e3c36905",
   "metadata": {},
   "outputs": [
    {
     "data": {
      "text/plain": [
       "array([[( 5,  5), ( 3,  3), (63, 63)],\n",
       "       [(54, 54), ( 3,  3), (54, 54)]],\n",
       "      dtype=[('listint1', '<i4'), ('listint2', '<i4')])"
      ]
     },
     "execution_count": 23,
     "metadata": {},
     "output_type": "execute_result"
    }
   ],
   "source": [
    "x"
   ]
  },
  {
   "cell_type": "code",
   "execution_count": 24,
   "id": "e244abf4",
   "metadata": {},
   "outputs": [
    {
     "data": {
      "text/plain": [
       "('listint1', 'listint2')"
      ]
     },
     "execution_count": 24,
     "metadata": {},
     "output_type": "execute_result"
    }
   ],
   "source": [
    "x.dtype.names"
   ]
  },
  {
   "cell_type": "code",
   "execution_count": 28,
   "id": "e7e5eb45",
   "metadata": {},
   "outputs": [
    {
     "ename": "TypeError",
     "evalue": "Cannot cast array data from dtype([('listint1', '<i4'), ('listint2', '<i4')]) to dtype('int64') according to the rule 'unsafe'",
     "output_type": "error",
     "traceback": [
      "\u001b[0;31m---------------------------------------------------------------------------\u001b[0m",
      "\u001b[0;31mTypeError\u001b[0m                                 Traceback (most recent call last)",
      "\u001b[0;32m/tmp/ipykernel_4838/91071722.py\u001b[0m in \u001b[0;36m<module>\u001b[0;34m\u001b[0m\n\u001b[0;32m----> 1\u001b[0;31m \u001b[0mx\u001b[0m\u001b[0;34m.\u001b[0m\u001b[0mastype\u001b[0m\u001b[0;34m(\u001b[0m\u001b[0;34m(\u001b[0m\u001b[0mnp\u001b[0m\u001b[0;34m.\u001b[0m\u001b[0mint64\u001b[0m\u001b[0;34m,\u001b[0m\u001b[0mnp\u001b[0m\u001b[0;34m.\u001b[0m\u001b[0mint64\u001b[0m\u001b[0;34m)\u001b[0m\u001b[0;34m)\u001b[0m\u001b[0;34m\u001b[0m\u001b[0;34m\u001b[0m\u001b[0m\n\u001b[0m",
      "\u001b[0;31mTypeError\u001b[0m: Cannot cast array data from dtype([('listint1', '<i4'), ('listint2', '<i4')]) to dtype('int64') according to the rule 'unsafe'"
     ]
    }
   ],
   "source": [
    "x.astype((np.int64,np.int64))"
   ]
  },
  {
   "cell_type": "code",
   "execution_count": null,
   "id": "0cc05b4b",
   "metadata": {},
   "outputs": [],
   "source": [
    "np.eye"
   ]
  }
 ],
 "metadata": {
  "kernelspec": {
   "display_name": "Python 3 (ipykernel)",
   "language": "python",
   "name": "python3"
  },
  "language_info": {
   "codemirror_mode": {
    "name": "ipython",
    "version": 3
   },
   "file_extension": ".py",
   "mimetype": "text/x-python",
   "name": "python",
   "nbconvert_exporter": "python",
   "pygments_lexer": "ipython3",
   "version": "3.8.10"
  }
 },
 "nbformat": 4,
 "nbformat_minor": 5
}
